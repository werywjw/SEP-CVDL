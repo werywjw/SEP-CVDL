{
 "cells": [
  {
   "cell_type": "code",
   "execution_count": 3,
   "metadata": {},
   "outputs": [
    {
     "name": "stdout",
     "output_type": "stream",
     "text": [
      "Index(['image', 'label'], dtype='object')\n"
     ]
    }
   ],
   "source": [
    "import pandas as pd\n",
    "import os\n",
    "import shutil\n",
    "\n",
    "dataset_path = \"C:/LMU/python/SEP_DLCV/Final_project/data_model/data/test\"\n",
    "csv_file_path = \"C:/LMU/python/SEP_DLCV/Final_project/data_model/data/test_labels.csv\"\n",
    "destination_folder = \"C:/LMU/python/SEP_DLCV/Final_project/data_model/project\"\n",
    "\n",
    "# Replace 'data.csv' with the actual filename of your CSV file\n",
    "data = pd.read_csv(csv_file_path)  # Use csv_file_path variable here\n",
    "label_df = pd.DataFrame(data)\n",
    "\n",
    "# Print column names to inspect the structure of the DataFrame\n",
    "print(label_df.columns)\n",
    "\n",
    "# create class directories\n",
    "for label in label_df[str(data.columns[1])].unique().astype(str):  # Adjust column name here\n",
    "    if not os.path.exists(os.path.join(destination_folder, label)):\n",
    "        os.mkdir(os.path.join(destination_folder, label))\n",
    "\n",
    "# set the destination target\n",
    "label_df['path'] = label_df[str(data.columns[1])].astype(str) + os.path.sep + label_df[str(data.columns[0])]  # Adjust column names here\n",
    "\n",
    "# copy or move files\n",
    "for _, row in label_df.iterrows():\n",
    "    source_path = os.path.join(dataset_path, row[str(data.columns[0])])  # Adjust column name here\n",
    "    destination_path = os.path.join(destination_folder, row['path'])\n",
    "    shutil.move(source_path, destination_path)"
   ]
  }
 ],
 "metadata": {
  "kernelspec": {
   "display_name": "env",
   "language": "python",
   "name": "python3"
  },
  "language_info": {
   "codemirror_mode": {
    "name": "ipython",
    "version": 3
   },
   "file_extension": ".py",
   "mimetype": "text/x-python",
   "name": "python",
   "nbconvert_exporter": "python",
   "pygments_lexer": "ipython3",
   "version": "3.11.7"
  }
 },
 "nbformat": 4,
 "nbformat_minor": 2
}
