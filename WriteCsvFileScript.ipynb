{
  "nbformat": 4,
  "nbformat_minor": 0,
  "metadata": {
    "colab": {
      "provenance": []
    },
    "kernelspec": {
      "name": "python3",
      "display_name": "Python 3"
    },
    "language_info": {
      "name": "python"
    }
  },
  "cells": [
    {
      "cell_type": "code",
      "execution_count": null,
      "metadata": {
        "id": "BbsaIKzImdiO"
      },
      "outputs": [],
      "source": [
        "# A script which takes a folder path as input. The script iterates through the images inside the folder\n",
        "# and outputs the corresponding classification scores in a csv file.\n",
        "# Can be used for every model saved as .pth without knowing the model.\n",
        "# transformations need to be the same as on validation data, needs to be adapted for the model.\n",
        "# acceptable_formats can be changed to the image formats the model accepts.\n",
        "\n",
        "# Requirement: Save the model with class labels:\n",
        "# class_labels = train_dataset.classes\n",
        "# import pickle\n",
        "# Save the model and its classes\n",
        "# with open('model.pkl', 'wb') as f:\n",
        "#    pickle.dump((model, class_labels), f)\n",
        "\n",
        "\n",
        "import torch\n",
        "import csv\n",
        "import os\n",
        "from PIL import Image\n",
        "import pickle\n",
        "\n",
        "# Provide the folder path\n",
        "folder_path = \"/content/image_folders\"\n",
        "\n",
        "# Load the saved model and class labels\n",
        "with open('model.pkl', 'rb') as f:\n",
        "    model, class_labels = pickle.load(f)\n",
        "\n",
        "# Define the transformations\n",
        "transform = transforms.Compose([\n",
        "    transforms.Resize(64),\n",
        "    transforms.CenterCrop(48),\n",
        "    transforms.ToTensor(),\n",
        "    transforms.Normalize([0.485, 0.456, 0.406], [0.229, 0.224, 0.225])\n",
        "])\n",
        "\n",
        "def predict_image(image_path):\n",
        "    image = Image.open(image_path)\n",
        "    image = transform(image).unsqueeze(0)\n",
        "    output = model(image)\n",
        "    probabilities = torch.nn.functional.softmax(output, dim=1)\n",
        "    return probabilities.tolist()[0]\n",
        "\n",
        "def predict_folder(folder_path):\n",
        "    results = []\n",
        "    acceptable_formats = ['.jpg', '.png', '.jpeg', '.tiff', '.bmp']\n",
        "    for filename in os.listdir(folder_path):\n",
        "        _, ext = os.path.splitext(filename)\n",
        "        if ext.lower() in acceptable_formats:\n",
        "            filepath = os.path.join(folder_path, filename)\n",
        "            label = predict_image(filepath)\n",
        "            results.append((filepath, *label))\n",
        "    return results\n",
        "\n",
        "def write_to_csv(results, output_path):\n",
        "    with open(output_path, 'w', newline='') as file:\n",
        "        writer = csv.writer(file)\n",
        "        writer.writerow([\"filepath\", *class_labels])\n",
        "        writer.writerows(results)\n",
        "\n",
        "# The Path to the csv file for the corresponding classification scores\n",
        "output_path = \"prediction_scores.csv\"\n",
        "\n",
        "results = predict_folder(folder_path)\n",
        "rounded_results = [(row[0], *[round(float(x), 2) for x in row[1:]]) for row in results]\n",
        "write_to_csv(rounded_results, output_path)"
      ]
    }
  ]
}