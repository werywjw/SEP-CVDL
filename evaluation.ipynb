{
 "cells": [
  {
   "cell_type": "code",
   "execution_count": 15,
   "metadata": {},
   "outputs": [],
   "source": [
    "import torch\n",
    "import torch.nn as nn\n",
    "from torch.nn import Linear, Conv2d, BatchNorm1d, BatchNorm2d, PReLU, Sequential, Module\n",
    "import torch.nn.functional as F\n",
    "import torchvision.transforms as transforms\n",
    "from PIL import Image"
   ]
  },
  {
   "cell_type": "code",
   "execution_count": 16,
   "metadata": {},
   "outputs": [],
   "source": [
    "class EmotionClassifier(nn.Module):\n",
    "    def __init__(self):\n",
    "        super(EmotionClassifier, self).__init__()\n",
    "        self.conv1 = nn.Conv2d(3, 64, kernel_size=3, padding=1)\n",
    "        self.bn1 = nn.BatchNorm2d(64)\n",
    "        # self.se1 = SEBlock(64)\n",
    "        self.conv2 = nn.Conv2d(64, 128, kernel_size=3, padding=1)\n",
    "        self.bn2 = nn.BatchNorm2d(128)\n",
    "        self.conv3 = nn.Conv2d(128, 256, kernel_size=3, padding=1)\n",
    "        self.bn3 = nn.BatchNorm2d(256)\n",
    "        self.conv4 = nn.Conv2d(256, 512, kernel_size=3, padding=1)\n",
    "        self.bn4 = nn.BatchNorm2d(512)\n",
    "        self.conv5 = nn.Conv2d(512, 1024, kernel_size=3, padding=1)\n",
    "        self.bn5 = nn.BatchNorm2d(1024)        \n",
    "\n",
    "        self.pool = nn.AdaptiveAvgPool2d((1, 1))\n",
    "        self.fc1 = nn.Linear(1024, 2048)\n",
    "        self.fc2 = nn.Linear(2048, 1024) \n",
    "        self.dropout1 = nn.Dropout(0.5)\n",
    "        self.fc3 = nn.Linear(1024, 6)\n",
    "\n",
    "    def forward(self, x):\n",
    "        x = F.relu(self.bn1(self.conv1(x)))\n",
    "        # x = self.se1(x)\n",
    "        # x = F.relu(self.se1(self.conv1(x)))\n",
    "        x = F.max_pool2d(x, 2)\n",
    "        x = F.relu(self.bn2(self.conv2(x)))\n",
    "        x = F.max_pool2d(x, 2)\n",
    "        x = F.relu(self.bn3(self.conv3(x)))\n",
    "        x = F.max_pool2d(x, 2)\n",
    "        x = F.relu(self.bn4(self.conv4(x)))\n",
    "        x = F.max_pool2d(x, 2)\n",
    "        x = F.relu(self.bn5(self.conv5(x)))\n",
    "        x = F.max_pool2d(x, 2)\n",
    "        \n",
    "        x = self.pool(x)\n",
    "        x = x.view(x.size(0), -1)  \n",
    "        x = F.relu(self.fc1(x))\n",
    "        x = self.dropout1(x)\n",
    "        x = F.relu(self.fc2(x))\n",
    "        x = self.fc3(x)\n",
    "        return x"
   ]
  },
  {
   "cell_type": "code",
   "execution_count": 22,
   "metadata": {},
   "outputs": [
    {
     "data": {
      "text/plain": [
       "<All keys matched successfully>"
      ]
     },
     "execution_count": 22,
     "metadata": {},
     "output_type": "execute_result"
    }
   ],
   "source": [
    "# import training model\n",
    "model = EmotionClassifier()\n",
    "\n",
    "model.load_state_dict(torch.load('best_vgg.pth'))\n",
    "# model.eval()\n"
   ]
  },
  {
   "cell_type": "code",
   "execution_count": 29,
   "metadata": {},
   "outputs": [
    {
     "name": "stdout",
     "output_type": "stream",
     "text": [
      "Image loaded and transformed successfully!\n",
      "tensor([[-189.1484,  -22.7918,  -16.7523,  -20.3876,   -8.6374,  -15.7019]],\n",
      "       grad_fn=<AddmmBackward0>)\n",
      "tensor([[0.0000e+00, 7.1176e-07, 2.9870e-04, 7.8787e-06, 9.9884e-01, 8.5391e-04]],\n",
      "       grad_fn=<SoftmaxBackward0>)\n",
      "tensor([[0., 0., 0., 0., 1., 0.]], grad_fn=<DivBackward0>)\n"
     ]
    }
   ],
   "source": [
    "# Define the transformation pipeline\n",
    "class_labels = ['happiness', 'surprise', 'sadness', 'anger', 'disgust', 'fear']\n",
    "\n",
    "transform = transforms.Compose([\n",
    "    transforms.Resize((64, 64)),\n",
    "    transforms.Grayscale(num_output_channels=3),\n",
    "    transforms.ToTensor(),\n",
    "    transforms.Normalize(mean=[0.485, 0.456, 0.406], std=[0.229, 0.224, 0.225]),\n",
    "])\n",
    "\n",
    "def load_and_transform_image(image_path):\n",
    "    try:\n",
    "        image = Image.open(image_path)\n",
    "        transformed_image = transform(image)\n",
    "        # Add a batch dimension\n",
    "        transformed_image = transformed_image.unsqueeze(0)\n",
    "        return transformed_image\n",
    "    except Exception as e:\n",
    "        print(\"Error loading or transforming the image:\", e)\n",
    "        return None\n",
    "    \n",
    "test_path = '/Users/kawka/Documents/GitHub/SEP-CVDL/dataset/trainingsets_64x64/RAF-DB_15.000_test/happiness/test_0003_aligned.jpg'\n",
    "\n",
    "# Load and transform the image\n",
    "transformed_image = load_and_transform_image(test_path)\n",
    "\n",
    "if transformed_image is not None:\n",
    "    print(\"Image loaded and transformed successfully!\")\n",
    "    # Optionally, you can further process or display the transformed image here\n",
    "else:\n",
    "    print(\"Failed to load or transform the image.\")\n",
    "\n",
    "output = model(transformed_image)\n",
    "print(output)\n",
    "probabilities = F.softmax(output, dim=1)\n",
    "print(probabilities)\n",
    "rounded_probabilities = torch.round(probabilities * 100) / 100\n",
    "print(rounded_probabilities)"
   ]
  }
 ],
 "metadata": {
  "kernelspec": {
   "display_name": "myenv",
   "language": "python",
   "name": "python3"
  },
  "language_info": {
   "codemirror_mode": {
    "name": "ipython",
    "version": 3
   },
   "file_extension": ".py",
   "mimetype": "text/x-python",
   "name": "python",
   "nbconvert_exporter": "python",
   "pygments_lexer": "ipython3",
   "version": "3.11.0"
  }
 },
 "nbformat": 4,
 "nbformat_minor": 2
}
