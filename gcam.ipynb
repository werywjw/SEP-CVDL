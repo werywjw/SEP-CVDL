{
 "cells": [
  {
   "cell_type": "code",
   "execution_count": 2,
   "metadata": {},
   "outputs": [
    {
     "name": "stdout",
     "output_type": "stream",
     "text": [
      "Using device: mps\n"
     ]
    }
   ],
   "source": [
    "import torch\n",
    "import torch\n",
    "import torch.nn as nn\n",
    "from torch.nn import Linear, Conv2d, BatchNorm1d, BatchNorm2d, PReLU, Sequential, Module\n",
    "from torchvision.transforms import transforms\n",
    "from torch.utils.data import DataLoader\n",
    "import torch.nn as nn\n",
    "import torch.nn.functional as F\n",
    "from matplotlib import pyplot as plt\n",
    "import pandas as pd\n",
    "import numpy as np\n",
    "import cv2\n",
    "import torch.optim as optim\n",
    "from tqdm import tqdm\n",
    "from sklearn.model_selection import ParameterGrid\n",
    "\n",
    "device = torch.device(\"mps\" if torch.backends.mps.is_available() else \"cpu\")\n",
    "# device = torch.device(\"cpu\")\n",
    "print(f\"Using device: {device}\")"
   ]
  },
  {
   "cell_type": "code",
   "execution_count": 3,
   "metadata": {},
   "outputs": [],
   "source": [
    "class EmotionClassifier(nn.Module):\n",
    "    def __init__(self):\n",
    "        super(EmotionClassifier, self).__init__()\n",
    "        self.conv1 = nn.Conv2d(3, 64, kernel_size=3, padding=1)\n",
    "        self.bn1 = nn.BatchNorm2d(64)\n",
    "        self.conv2 = nn.Conv2d(64, 128, kernel_size=3, padding=1)\n",
    "        self.bn2 = nn.BatchNorm2d(128)\n",
    "        self.conv3 = nn.Conv2d(128, 256, kernel_size=3, padding=1)\n",
    "        self.bn3 = nn.BatchNorm2d(256)\n",
    "        self.conv4 = nn.Conv2d(256, 512, kernel_size=3, padding=1)\n",
    "        self.bn4 = nn.BatchNorm2d(512)\n",
    "        self.conv5 = nn.Conv2d(512, 1024, kernel_size=3, padding=1)\n",
    "        self.bn5 = nn.BatchNorm2d(1024)\n",
    "\n",
    "        self.pool = nn.AdaptiveAvgPool2d((1, 1))\n",
    "        self.fc1 = nn.Linear(1024, 2048)\n",
    "        self.fc2 = nn.Linear(2048, 1024) \n",
    "        self.dropout1 = nn.Dropout(0.2)\n",
    "        self.dropout2 = nn.Dropout(0.5)\n",
    "        self.fc3 = nn.Linear(1024, 6)\n",
    "\n",
    "    def forward(self, x):\n",
    "        x = F.relu(self.bn1(self.conv1(x)))\n",
    "        x = F.max_pool2d(x, 2)\n",
    "        x = F.relu(self.bn2(self.conv2(x)))\n",
    "        x = F.max_pool2d(x, 2)\n",
    "        x = F.relu(self.bn3(self.conv3(x)))\n",
    "        x = F.max_pool2d(x, 2)\n",
    "        x = F.relu(self.bn4(self.conv4(x)))\n",
    "        x = F.max_pool2d(x, 2)\n",
    "        x = F.relu(self.bn5(self.conv5(x)))\n",
    "        x = F.max_pool2d(x, 2)\n",
    "        \n",
    "        x = self.pool(x)\n",
    "        x = x.view(x.size(0), -1)  \n",
    "        x = F.relu(self.fc1(x))\n",
    "        x = self.dropout1(x)\n",
    "        x = F.relu(self.fc2(x))\n",
    "        x = self.fc3(x)\n",
    "        return x\n",
    "\n",
    "model = EmotionClassifier()"
   ]
  },
  {
   "cell_type": "code",
   "execution_count": 4,
   "metadata": {},
   "outputs": [
    {
     "data": {
      "text/plain": [
       "0"
      ]
     },
     "execution_count": 4,
     "metadata": {},
     "output_type": "execute_result"
    }
   ],
   "source": [
    "from torchvision import transforms\n",
    "from PIL import Image\n",
    "import torch\n",
    "\n",
    "# img_path = 'dataset/vali/img000_surprise.jpg'\n",
    "# img_path = 'dataset/vali/img387_happiness.jpg'\n",
    "img_path = 'archive/RAF-DB/train/train_00004_aligned_happiness.jpg'\n",
    "# img_path = 'archive/RAF-DB/test/test_0001_aligned_sadness.jpg'\n",
    "img = Image.open(img_path)\n",
    "\n",
    "def preprocess_image(img_path):\n",
    "    preprocess = transforms.Compose([\n",
    "        transforms.ToPILImage(),\n",
    "        transforms.Resize((64, 64)),\n",
    "        transforms.ToTensor(),\n",
    "        transforms.Normalize(mean=[0.485, 0.456, 0.406], std=[0.229, 0.224, 0.225]),\n",
    "    ])\n",
    "    img = cv2.imread(img_path)\n",
    "    img = cv2.cvtColor(img, cv2.COLOR_BGR2RGB)\n",
    "    img = preprocess(img).unsqueeze(0)  \n",
    "    return img\n",
    "\n",
    "img_tensor = preprocess_image(img_path)\n",
    "\n",
    "logits = model(img_tensor)\n",
    "\n",
    "probabilities = F.softmax(logits, dim=1)\n",
    "predicted_class = torch.argmax(probabilities, dim=1)\n",
    "\n",
    "predicted_class.item()"
   ]
  },
  {
   "cell_type": "code",
   "execution_count": 19,
   "metadata": {},
   "outputs": [
    {
     "data": {
      "image/png": "[encoded data removed]",
      "text/plain": [
       "<Figure size 480x480 with 1 Axes>"
      ]
     },
     "metadata": {},
     "output_type": "display_data"
    },
    {
     "name": "stderr",
     "output_type": "stream",
     "text": [
      "Clipping input data to the valid range for imshow with RGB data ([0..1] for floats or [0..255] for integers).\n"
     ]
    },
    {
     "data": {
      "image/png": "[encoded data removed]",
      "text/plain": [
       "<Figure size 640x480 with 1 Axes>"
      ]
     },
     "metadata": {},
     "output_type": "display_data"
    }
   ],
   "source": [
    "class Hook():\n",
    "    ''' \n",
    "    A simple hook class that returns the input and output of a layer during forward and backward pass\n",
    "    '''\n",
    "    def __init__(self):\n",
    "        self.hook_forward = None\n",
    "        self.hook_backward = None\n",
    "        self.forward_out = None\n",
    "        self.backward_out = None\n",
    "\n",
    "    def hook_fn_forward(self, module, input, output):\n",
    "        self.forward_out = output\n",
    "\n",
    "    def hook_fn_backward(self, module, grad_input, grad_output):\n",
    "        self.backward_out = grad_output[0] \n",
    "\n",
    "    def register_hook(self, module):\n",
    "        self.hook_forward = module.register_forward_hook(self.hook_fn_forward)\n",
    "        self.hook_backward = module.register_full_backward_hook(self.hook_fn_backward)\n",
    "\n",
    "    def unregister_hook(self):\n",
    "        self.hook_forward.remove()\n",
    "        self.hook_backward.remove()\n",
    "\n",
    "model.load_state_dict(torch.load('best_RAF.pth', map_location=device))\n",
    "model.eval()  \n",
    "\n",
    "final_layer = model.conv5\n",
    "hook = Hook()\n",
    "hook.register_hook(final_layer)\n",
    "\n",
    "logits = model(img_tensor)\n",
    "\n",
    "predicted_class_idx = predicted_class.item()\n",
    "\n",
    "one_hot_output = torch.FloatTensor(1, probabilities.shape[1]).zero_()\n",
    "one_hot_output[0][predicted_class_idx] = 1\n",
    "logits.backward(one_hot_output, retain_graph=True)\n",
    "\n",
    "gradients = hook.backward_out\n",
    "feature_maps = hook.forward_out\n",
    "\n",
    "hook.unregister_hook()\n",
    "\n",
    "weights = torch.mean(gradients, dim=[2, 3], keepdim=True)\n",
    "cam = torch.sum(weights * feature_maps, dim=1, keepdim=True)\n",
    "cam = cam.clamp(min=0).squeeze() \n",
    "\n",
    "cam -= cam.min()\n",
    "cam /= cam.max()\n",
    "cam = cam.cpu().detach().numpy()\n",
    "cam = cv2.resize(cam, (64, 64))\n",
    "\n",
    "plt.matshow(cam, cmap='jet')\n",
    "plt.axis('off')\n",
    "plt.show()\n",
    "\n",
    "heatmap = cv2.applyColorMap(np.uint8(255 * cam), cv2.COLORMAP_JET)\n",
    "heatmap = np.float32(heatmap) / 255\n",
    "superimposed_img = heatmap * 0.4 + np.float32(img) / 255\n",
    "superimposed_img = cv2.cvtColor(superimposed_img, cv2.COLOR_BGR2RGB)\n",
    "\n",
    "plt.imshow(superimposed_img)\n",
    "plt.axis('off')\n",
    "plt.show()"
   ]
  },
  {
   "cell_type": "code",
   "execution_count": null,
   "metadata": {},
   "outputs": [],
   "source": []
  }
 ],
 "metadata": {
  "kernelspec": {
   "display_name": "Python 3",
   "language": "python",
   "name": "python3"
  },
  "language_info": {
   "codemirror_mode": {
    "name": "ipython",
    "version": 3
   },
   "file_extension": ".py",
   "mimetype": "text/x-python",
   "name": "python",
   "nbconvert_exporter": "python",
   "pygments_lexer": "ipython3",
   "version": "3.9.6"
  }
 },
 "nbformat": 4,
 "nbformat_minor": 2
}
