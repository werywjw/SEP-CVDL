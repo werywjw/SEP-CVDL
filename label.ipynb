{
 "cells": [
  {
   "cell_type": "code",
   "execution_count": 2,
   "metadata": {},
   "outputs": [],
   "source": [
    "import os\n",
    "import pandas as pd\n",
    "\n",
    "# path = 'dataset/CK+'\n",
    "# path = 'dataset/FER+'\n",
    "path = 'dataset/TFEID'\n",
    "\n",
    "label_mapping = {\n",
    "    \"surprise\": 1,\n",
    "    \"fear\": 2,\n",
    "    \"disgust\": 3,\n",
    "    \"happiness\": 4,\n",
    "    \"sadness\": 5,\n",
    "    \"anger\": 6\n",
    "}\n",
    "\n",
    "data = []\n",
    "\n",
    "for emotion, label in label_mapping.items():\n",
    "    folder_path = os.path.join(path, emotion)\n",
    "    for filename in os.listdir(folder_path):\n",
    "        if filename.endswith(\".jpg\"):  \n",
    "            data.append([filename, label])\n",
    "\n",
    "df = pd.DataFrame(data, columns=['image','label'])\n",
    "df.to_csv('emotion_labels.csv', index=False)\n"
   ]
  },
  {
   "cell_type": "code",
   "execution_count": null,
   "metadata": {},
   "outputs": [],
   "source": []
  }
 ],
 "metadata": {
  "kernelspec": {
   "display_name": "Python 3",
   "language": "python",
   "name": "python3"
  },
  "language_info": {
   "codemirror_mode": {
    "name": "ipython",
    "version": 3
   },
   "file_extension": ".py",
   "mimetype": "text/x-python",
   "name": "python",
   "nbconvert_exporter": "python",
   "pygments_lexer": "ipython3",
   "version": "3.9.6"
  }
 },
 "nbformat": 4,
 "nbformat_minor": 2
}
