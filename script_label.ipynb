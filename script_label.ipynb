{
 "cells": [
  {
   "cell_type": "markdown",
   "metadata": {},
   "source": [
    "## Script to generate CSV labels with respect to each image"
   ]
  },
  {
   "cell_type": "code",
   "execution_count": 2,
   "metadata": {},
   "outputs": [],
   "source": [
    "import os\n",
    "import pandas as pd\n",
    "\n",
    "# path = 'dataset/CK+'\n",
    "# path = 'dataset/TFEID'\n",
    "# path = 'dataset/training_sets/FER+'\n",
    "path = 'dataset/testing_sets/FER+'\n",
    "\n",
    "# path = 'dataset/training_sets/RAF-DB'\n",
    "# path = 'dataset/testing_sets/RAF-DB'\n",
    "\n",
    "label_mapping = {\n",
    "    \"happiness\": 0,\n",
    "    \"surprise\": 1,\n",
    "    \"sadness\": 2,\n",
    "    \"anger\": 3,\n",
    "    \"disgust\": 4,\n",
    "    \"fear\": 5,\n",
    "}\n",
    "\n",
    "data = []\n",
    "\n",
    "for emotion, label in label_mapping.items():\n",
    "    folder_path = os.path.join(path, emotion)\n",
    "    for filename in os.listdir(folder_path):\n",
    "        if filename.endswith(\".jpg\"):  \n",
    "            data.append([filename, label])\n",
    "\n",
    "df = pd.DataFrame(data, columns=['image','label'])\n",
    "df.to_csv('dataset/test_FER_labels.csv', index=False) # change here for train/test\n"
   ]
  },
  {
   "cell_type": "markdown",
   "metadata": {},
   "source": [
    "## Script to add label names on the images"
   ]
  },
  {
   "cell_type": "code",
   "execution_count": 8,
   "metadata": {},
   "outputs": [],
   "source": [
    "import os\n",
    "\n",
    "def rename_files_with_label(directory_path):\n",
    "    for root, dirs, files in os.walk(directory_path):\n",
    "        for file in files:\n",
    "            if file.endswith('.jpg'):\n",
    "                label = os.path.basename(root)\n",
    "                new_filename = f\"{file.split('.jpg')[0]}_{label}.jpg\"\n",
    "                original_file_path = os.path.join(root, file)\n",
    "                new_file_path = os.path.join(root, new_filename)\n",
    "                os.rename(original_file_path, new_file_path)\n",
    "                # print(f\"Renamed {file} to {new_filename}\")\n",
    "\n",
    "dummy_directory_path = 'dataset/training_sets/RAF-DB/' # change here for different datasets\n",
    "rename_files_with_label(dummy_directory_path)"
   ]
  },
  {
   "cell_type": "code",
   "execution_count": null,
   "metadata": {},
   "outputs": [],
   "source": []
  }
 ],
 "metadata": {
  "kernelspec": {
   "display_name": "Python 3",
   "language": "python",
   "name": "python3"
  },
  "language_info": {
   "codemirror_mode": {
    "name": "ipython",
    "version": 3
   },
   "file_extension": ".py",
   "mimetype": "text/x-python",
   "name": "python",
   "nbconvert_exporter": "python",
   "pygments_lexer": "ipython3",
   "version": "3.9.6"
  }
 },
 "nbformat": 4,
 "nbformat_minor": 2
}
