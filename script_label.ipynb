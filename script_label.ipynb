{
 "cells": [
  {
   "cell_type": "markdown",
   "metadata": {},
   "source": [
    "## Script to generate CSV labels with respect to each image\n",
    "\n",
    "### Option 1: Generations from direct image folders"
   ]
  },
  {
   "cell_type": "code",
   "execution_count": 6,
   "metadata": {},
   "outputs": [
    {
     "name": "stdout",
     "output_type": "stream",
     "text": [
      "CSV file created at: dataset/train_labels.csv\n"
     ]
    }
   ],
   "source": [
    "import os\n",
    "import pandas as pd\n",
    "\n",
    "path = 'dataset/training_sets'\n",
    "\n",
    "label_mapping = {\n",
    "    \"happiness\": 0,\n",
    "    \"surprise\": 1,\n",
    "    \"sadness\": 2,\n",
    "    \"anger\": 3,\n",
    "    \"disgust\": 4,\n",
    "    \"fear\": 5,\n",
    "}\n",
    "\n",
    "image_data = []\n",
    "\n",
    "for filename in os.listdir(path):\n",
    "    if filename.endswith(\".jpg\"):  \n",
    "        label_name = filename.split('_')[-1].split('.')[0]\n",
    "        label_value = label_mapping.get(label_name)\n",
    "        if label_value is not None:  \n",
    "            image_data.append([filename, label_value])\n",
    "\n",
    "df = pd.DataFrame(image_data, columns=[\"ImageName\", \"Label\"])\n",
    "\n",
    "csv_file_path = 'dataset/train_labels.csv'\n",
    "\n",
    "df.to_csv(csv_file_path, index=False, header=False)\n",
    "\n",
    "# print(f\"CSV file created at: {csv_file_path}\")"
   ]
  },
  {
   "cell_type": "markdown",
   "metadata": {},
   "source": [
    "### Option2: Generations from 6 different emotion folders"
   ]
  },
  {
   "cell_type": "code",
   "execution_count": 3,
   "metadata": {},
   "outputs": [],
   "source": [
    "import os\n",
    "import pandas as pd\n",
    "\n",
    "# path = 'dataset/CK+'\n",
    "# path = 'dataset/TFEID'\n",
    "# path = 'dataset/training_sets/FER+'\n",
    "# path = 'dataset/testing_sets/FER+'\n",
    "\n",
    "# path = 'dataset/training_sets/RAF-DB'\n",
    "# path = 'dataset/testing_sets/RAF-DB'\n",
    "# path = 'dataset/training_sets/CK+'\n",
    "path = 'dataset/training_sets/TFEID'\n",
    "\n",
    "label_mapping = {\n",
    "    \"happiness\": 0,\n",
    "    \"surprise\": 1,\n",
    "    \"sadness\": 2,\n",
    "    \"anger\": 3,\n",
    "    \"disgust\": 4,\n",
    "    \"fear\": 5,\n",
    "}\n",
    "\n",
    "data = []\n",
    "\n",
    "for emotion, label in label_mapping.items():\n",
    "    folder_path = os.path.join(path, emotion)\n",
    "    for filename in os.listdir(folder_path):\n",
    "        if filename.endswith(\".jpg\"):  \n",
    "            data.append([filename, label])\n",
    "\n",
    "df = pd.DataFrame(data, columns=['image','label'])\n",
    "df.to_csv('dataset/tfeid_labels.csv', index=False) # change here for train/test\n"
   ]
  },
  {
   "cell_type": "markdown",
   "metadata": {},
   "source": [
    "## Script to add label names on the images"
   ]
  },
  {
   "cell_type": "code",
   "execution_count": 1,
   "metadata": {},
   "outputs": [],
   "source": [
    "import os\n",
    "\n",
    "def rename_img_label(directory_path):\n",
    "    for root, dirs, files in os.walk(directory_path):\n",
    "        for file in files:\n",
    "            if file.endswith('.png'): # png, jpeg, etc\n",
    "                label = os.path.basename(root)\n",
    "                new_filename = f\"{file.split('.png')[0]}_{label}.jpg\" # png, jpeg, etc\n",
    "                original_file_path = os.path.join(root, file)\n",
    "                new_file_path = os.path.join(root, new_filename)\n",
    "                os.rename(original_file_path, new_file_path)\n",
    "\n",
    "emotions_path = 'archive/AffectNet/' # change here for different datasets\n",
    "rename_img_label(emotions_path)"
   ]
  },
  {
   "cell_type": "code",
   "execution_count": null,
   "metadata": {},
   "outputs": [],
   "source": []
  }
 ],
 "metadata": {
  "kernelspec": {
   "display_name": "Python 3",
   "language": "python",
   "name": "python3"
  },
  "language_info": {
   "codemirror_mode": {
    "name": "ipython",
    "version": 3
   },
   "file_extension": ".py",
   "mimetype": "text/x-python",
   "name": "python",
   "nbconvert_exporter": "python",
   "pygments_lexer": "ipython3",
   "version": "3.5.2"
  }
 },
 "nbformat": 4,
 "nbformat_minor": 2
}
