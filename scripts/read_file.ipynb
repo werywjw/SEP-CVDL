{
 "cells": [
  {
   "cell_type": "code",
   "execution_count": 3,
   "metadata": {},
   "outputs": [
    {
     "name": "stdout",
     "output_type": "stream",
     "text": [
      "Error reading the .pth file: [Errno 2] No such file or directory: 'best_vgg.pth'\n",
      "Failed to load data from the .pth file.\n",
      "NoneType\n"
     ]
    }
   ],
   "source": [
    "import torch\n",
    "\n",
    "def read_pth_file(file_path):\n",
    "    try:\n",
    "        data = torch.load(file_path)\n",
    "        return data\n",
    "    except Exception as e:\n",
    "        print(\"Error reading the .pth file:\", e)\n",
    "        return None\n",
    "\n",
    "# Replace 'your_file.pth' with the path to your .pth file\n",
    "file_path = '/Users/kawka/Documents/GitHub/SEP-CVDL/best_vgg.pth'\n",
    "data = read_pth_file(file_path)\n",
    "\n",
    "if data is not None:\n",
    "    print(\"Data loaded successfully from the .pth file.\")\n",
    "    # Do whatever you want with the loaded data here\n",
    "else:\n",
    "    print(\"Failed to load data from the .pth file.\")\n",
    "\n",
    "# print class name\n",
    "print(type(data).__name__)\n",
    " "
   ]
  }
 ],
 "metadata": {
  "kernelspec": {
   "display_name": "myenv",
   "language": "python",
   "name": "python3"
  },
  "language_info": {
   "codemirror_mode": {
    "name": "ipython",
    "version": 3
   },
   "file_extension": ".py",
   "mimetype": "text/x-python",
   "name": "python",
   "nbconvert_exporter": "python",
   "pygments_lexer": "ipython3",
   "version": "3.11.0"
  }
 },
 "nbformat": 4,
 "nbformat_minor": 2
}
