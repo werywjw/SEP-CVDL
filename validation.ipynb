{
 "cells": [
  {
   "cell_type": "code",
   "execution_count": 1,
   "metadata": {},
   "outputs": [
    {
     "name": "stdout",
     "output_type": "stream",
     "text": [
      "Using device: mps\n"
     ]
    }
   ],
   "source": [
    "import torch\n",
    "import torch\n",
    "import torch.nn as nn\n",
    "from torch.nn import Linear, Conv2d, BatchNorm1d, BatchNorm2d, PReLU, Sequential, Module\n",
    "from torchvision.transforms import transforms\n",
    "from torch.utils.data import DataLoader\n",
    "import torch.nn as nn\n",
    "import torch.nn.functional as F\n",
    "from matplotlib import pyplot as plt\n",
    "import pandas as pd\n",
    "import numpy as np\n",
    "import torch.optim as optim\n",
    "from tqdm import tqdm\n",
    "from sklearn.model_selection import ParameterGrid\n",
    "\n",
    "device = torch.device(\"mps\" if torch.backends.mps.is_available() else \"cpu\")\n",
    "print(f\"Using device: {device}\")"
   ]
  },
  {
   "cell_type": "code",
   "execution_count": 2,
   "metadata": {},
   "outputs": [],
   "source": [
    "import os\n",
    "import pandas as pd\n",
    "from PIL import Image\n",
    "from torch.utils.data import Dataset\n",
    "import torch\n",
    "\n",
    "class RAFDBDataset(Dataset):\n",
    "    def __init__(self, csv_file, img_dir, transform=None):\n",
    "        self.labels = pd.read_csv(csv_file)\n",
    "        self.img_dir = img_dir\n",
    "        self.transform = transform\n",
    "\n",
    "    def __len__(self):\n",
    "        return len(self.labels)\n",
    "\n",
    "    def __getitem__(self, idx):\n",
    "        if torch.is_tensor(idx):\n",
    "            idx = idx.tolist()\n",
    "\n",
    "        img_name = os.path.join(self.img_dir, self.labels.iloc[idx, 0])\n",
    "        image = Image.open(img_name)\n",
    "        label = self.labels.iloc[idx, 1]\n",
    "        if self.transform:\n",
    "            image = self.transform(image)\n",
    "\n",
    "        return image, label"
   ]
  },
  {
   "cell_type": "code",
   "execution_count": 11,
   "metadata": {},
   "outputs": [
    {
     "name": "stdout",
     "output_type": "stream",
     "text": [
      "Train batch: image shape torch.Size([8, 3, 64, 64]), labels shape torch.Size([8])\n",
      "Vali batch: image shape torch.Size([8, 3, 64, 64]), labels shape torch.Size([8])\n",
      "Test batch: image shape torch.Size([8, 3, 64, 64]), labels shape torch.Size([8])\n"
     ]
    }
   ],
   "source": [
    "from rafdb_dataset import RAFDBDataset\n",
    "\n",
    "transform = transforms.Compose([\n",
    "    transforms.Resize((64, 64)),\n",
    "    transforms.Grayscale(num_output_channels=3),\n",
    "    transforms.RandomHorizontalFlip(), \n",
    "    transforms.RandomApply([\n",
    "        transforms.RandomRotation(5),\n",
    "        transforms.RandomCrop(64, padding=8)\n",
    "    ], p=0.2),\n",
    "    transforms.ToTensor(),\n",
    "    transforms.Normalize(mean=[0.485, 0.456, 0.406], std=[0.229, 0.224, 0.225]),\n",
    "    transforms.RandomErasing(scale=(0.02,0.25)),\n",
    "])\n",
    "    \n",
    "rafdb_dataset_train = RAFDBDataset(csv_file='archive/train_labels.csv',\n",
    "                            img_dir='archive/DATASET/train/',\n",
    "                            transform=transform)\n",
    "data_train_loader = DataLoader(rafdb_dataset_train, batch_size=32, shuffle=True, num_workers=4)\n",
    "train_image, train_label = next(iter(data_train_loader))\n",
    "print(f\"Train batch: image shape {train_image.shape}, labels shape {train_label.shape}\")\n",
    "\n",
    "rafdb_dataset_vali = RAFDBDataset(csv_file='dataset/vali_labels.csv',\n",
    "                            img_dir='dataset/validation_set',\n",
    "                            transform=transform)\n",
    "data_vali_loader = DataLoader(rafdb_dataset_vali, batch_size=32, shuffle=False, num_workers=0)\n",
    "vali_image, vali_label = next(iter(data_vali_loader))\n",
    "print(f\"Vali batch: image shape {vali_image.shape}, labels shape {vali_label.shape}\")\n",
    "\n",
    "rafdb_dataset_test = RAFDBDataset(csv_file='archive/test_labels.csv',\n",
    "                            img_dir='archive/DATASET/test',\n",
    "                            transform=transform)\n",
    "data_test_loader = DataLoader(rafdb_dataset_test, batch_size=32, shuffle=False, num_workers=0)\n",
    "test_image, test_label = next(iter(data_test_loader))\n",
    "print(f\"Test batch: image shape {test_image.shape}, labels shape {test_label.shape}\")"
   ]
  },
  {
   "cell_type": "code",
   "execution_count": 4,
   "metadata": {},
   "outputs": [],
   "source": [
    "# class VGG16(nn.Module):\n",
    "#     def __init__(self, num_classes=6):\n",
    "#         super(VGG16, self).__init__()\n",
    "#         self.features = nn.Sequential(\n",
    "#             nn.Conv2d(3, 64, kernel_size=3, padding=1),\n",
    "#             nn.ReLU(inplace=True),\n",
    "#             nn.Conv2d(64, 64, kernel_size=3, padding=1),\n",
    "#             nn.ReLU(inplace=True),\n",
    "#             nn.MaxPool2d(kernel_size=2, stride=2),\n",
    "\n",
    "#             nn.Conv2d(64, 128, kernel_size=3, padding=1),\n",
    "#             nn.ReLU(inplace=True),\n",
    "#             nn.Conv2d(128, 128, kernel_size=3, padding=1),\n",
    "#             nn.ReLU(inplace=True),\n",
    "#             nn.MaxPool2d(kernel_size=2, stride=2),\n",
    "\n",
    "#             nn.Conv2d(128, 256, kernel_size=3, padding=1),\n",
    "#             nn.ReLU(inplace=True),\n",
    "#             nn.Conv2d(256, 256, kernel_size=3, padding=1),\n",
    "#             nn.ReLU(inplace=True),\n",
    "#             nn.Conv2d(256, 256, kernel_size=3, padding=1),\n",
    "#             nn.ReLU(inplace=True),\n",
    "#             nn.MaxPool2d(kernel_size=2, stride=2),\n",
    "\n",
    "#             nn.Conv2d(256, 512, kernel_size=3, padding=1),\n",
    "#             nn.ReLU(inplace=True),\n",
    "#             nn.Conv2d(512, 512, kernel_size=3, padding=1),\n",
    "#             nn.ReLU(inplace=True),\n",
    "#             nn.Conv2d(512, 512, kernel_size=3, padding=1),\n",
    "#             nn.ReLU(inplace=True),\n",
    "#             nn.MaxPool2d(kernel_size=2, stride=2),\n",
    "\n",
    "#             nn.Conv2d(512, 512, kernel_size=3, padding=1),\n",
    "#             nn.ReLU(inplace=True),\n",
    "#             nn.Conv2d(512, 512, kernel_size=3, padding=1),\n",
    "#             nn.ReLU(inplace=True),\n",
    "#             nn.Conv2d(512, 512, kernel_size=3, padding=1),\n",
    "#             nn.ReLU(inplace=True),\n",
    "#             nn.MaxPool2d(kernel_size=2, stride=2)\n",
    "#         )\n",
    "        \n",
    "#         self.classifier = nn.Sequential(\n",
    "#             nn.Linear(512 * 7 * 7, 4096),\n",
    "#             nn.ReLU(inplace=True),\n",
    "#             nn.Dropout(),\n",
    "#             nn.Linear(4096, 4096),\n",
    "#             nn.ReLU(inplace=True),\n",
    "#             nn.Dropout(),\n",
    "#             nn.Linear(4096, num_classes)\n",
    "#         )\n",
    "\n",
    "#     def forward(self, x):\n",
    "#         x = self.features(x)\n",
    "#         x = torch.flatten(x, 1)\n",
    "#         x = self.classifier(x)\n",
    "#         return x\n"
   ]
  },
  {
   "cell_type": "code",
   "execution_count": 12,
   "metadata": {},
   "outputs": [],
   "source": [
    "class EmotionClassifier(nn.Module):\n",
    "    def __init__(self):\n",
    "        super(EmotionClassifier, self).__init__()\n",
    "        self.conv1 = nn.Conv2d(3, 32, kernel_size=3, padding=1)\n",
    "        self.bn1 = nn.BatchNorm2d(32)\n",
    "        self.conv2 = nn.Conv2d(32, 64, kernel_size=3, padding=1)\n",
    "        self.bn2 = nn.BatchNorm2d(64)\n",
    "        self.conv3 = nn.Conv2d(64, 128, kernel_size=3, padding=1)\n",
    "        self.bn3 = nn.BatchNorm2d(128)\n",
    "        self.pool = nn.AdaptiveAvgPool2d((1, 1))\n",
    "        self.fc1 = nn.Linear(128, 1024)\n",
    "        self.dropout = nn.Dropout(0.5)\n",
    "        self.fc2 = nn.Linear(1024, 6)\n",
    "\n",
    "    def forward(self, x):\n",
    "        x = F.relu(self.bn1(F.max_pool2d(self.conv1(x), 2)))\n",
    "        x = F.relu(self.bn2(F.max_pool2d(self.conv2(x), 2)))\n",
    "        x = F.relu(self.bn3(F.max_pool2d(self.conv3(x), 2)))\n",
    "        x = self.pool(x)\n",
    "        x = x.view(-1, 128)\n",
    "        x = self.dropout(F.relu(self.fc1(x)))\n",
    "        x = self.fc2(x)\n",
    "        return x"
   ]
  },
  {
   "cell_type": "code",
   "execution_count": null,
   "metadata": {},
   "outputs": [],
   "source": [
    "# import torch\n",
    "# import torch.nn as nn\n",
    "# import torch.nn.functional as F\n",
    "\n",
    "# class BasicBlock(nn.Module):\n",
    "#     expansion = 1\n",
    "\n",
    "#     def __init__(self, in_planes, planes, stride=1):\n",
    "#         super(BasicBlock, self).__init__()\n",
    "#         self.conv1 = nn.Conv2d(in_planes, planes, kernel_size=3, stride=stride, padding=1, bias=False)\n",
    "#         self.bn1 = nn.BatchNorm2d(planes)\n",
    "#         self.conv2 = nn.Conv2d(planes, planes, kernel_size=3, stride=1, padding=1, bias=False)\n",
    "#         self.bn2 = nn.BatchNorm2d(planes)\n",
    "\n",
    "#         self.shortcut = nn.Sequential()\n",
    "#         if stride != 1 or in_planes != self.expansion * planes:\n",
    "#             self.shortcut = nn.Sequential(\n",
    "#                 nn.Conv2d(in_planes, self.expansion * planes, kernel_size=1, stride=stride, bias=False),\n",
    "#                 nn.BatchNorm2d(self.expansion * planes)\n",
    "#             )\n",
    "\n",
    "#     def forward(self, x):\n",
    "#         out = F.relu(self.bn1(self.conv1(x)))\n",
    "#         out = self.bn2(self.conv2(out))\n",
    "#         out += self.shortcut(x)\n",
    "#         out = F.relu(out)\n",
    "#         return out\n",
    "\n",
    "# class ResNet(nn.Module):\n",
    "#     def __init__(self, block, num_blocks, num_classes=6):\n",
    "#         super(ResNet, self).__init__()\n",
    "#         self.in_planes = 64\n",
    "\n",
    "#         self.conv1 = nn.Conv2d(3, 64, kernel_size=7, stride=2, padding=3, bias=False)\n",
    "#         self.bn1 = nn.BatchNorm2d(64)\n",
    "#         self.layer1 = self._make_layer(block, 64, num_blocks[0], stride=1)\n",
    "#         self.layer2 = self._make_layer(block, 128, num_blocks[1], stride=2)\n",
    "#         self.layer3 = self._make_layer(block, 256, num_blocks[2], stride=2)\n",
    "#         self.layer4 = self._make_layer(block, 512, num_blocks[3], stride=2)\n",
    "#         self.avgpool = nn.AdaptiveAvgPool2d((1, 1))\n",
    "#         self.fc = nn.Linear(512 * block.expansion, num_classes)\n",
    "\n",
    "#     def _make_layer(self, block, planes, num_blocks, stride):\n",
    "#         strides = [stride] + [1]*(num_blocks-1)\n",
    "#         layers = []\n",
    "#         for stride in strides:\n",
    "#             layers.append(block(self.in_planes, planes, stride))\n",
    "#             self.in_planes = planes * block.expansion\n",
    "#         return nn.Sequential(*layers)\n",
    "\n",
    "#     def forward(self, x):\n",
    "#         out = F.relu(self.bn1(self.conv1(x)))\n",
    "#         out = self.layer1(out)\n",
    "#         out = self.layer2(out)\n",
    "#         out = self.layer3(out)\n",
    "#         out = self.layer4(out)\n",
    "#         out = self.avgpool(out)\n",
    "#         out = out.view(out.size(0), -1)\n",
    "#         out = self.fc(out)\n",
    "#         return out\n",
    "\n",
    "# def EmotionClassifierResNet18():\n",
    "#     return ResNet(BasicBlock, [2, 2, 2, 2])\n",
    "\n",
    "# model = EmotionClassifierResNet18().to(device)\n"
   ]
  },
  {
   "cell_type": "code",
   "execution_count": null,
   "metadata": {},
   "outputs": [],
   "source": [
    "# param_grid = {\n",
    "#     'lr': [0.1, 0.01, 0.001, 0.0001], \n",
    "#     'batch_size': [8, 16, 32, 64],  \n",
    "# }\n",
    "# grid = ParameterGrid(param_grid)\n",
    "# results = []"
   ]
  },
  {
   "cell_type": "code",
   "execution_count": 23,
   "metadata": {},
   "outputs": [
    {
     "name": "stderr",
     "output_type": "stream",
     "text": [
      "Epoch 1/15:   0%|          | 0/1219 [00:00<?, ?it/s]"
     ]
    },
    {
     "name": "stderr",
     "output_type": "stream",
     "text": [
      "Epoch 1/15: 100%|██████████| 1219/1219 [00:43<00:00, 27.89it/s]\n",
      "Epoch 2/15: 100%|██████████| 1219/1219 [00:43<00:00, 28.09it/s]\n",
      "Epoch 3/15: 100%|██████████| 1219/1219 [00:44<00:00, 27.52it/s]\n",
      "Epoch 4/15: 100%|██████████| 1219/1219 [00:44<00:00, 27.50it/s]\n",
      "Epoch 5/15: 100%|██████████| 1219/1219 [00:43<00:00, 27.79it/s]\n",
      "Epoch 6/15: 100%|██████████| 1219/1219 [00:43<00:00, 28.31it/s]\n",
      "Epoch 7/15: 100%|██████████| 1219/1219 [00:43<00:00, 28.23it/s]\n",
      "Epoch 8/15: 100%|██████████| 1219/1219 [00:43<00:00, 28.34it/s]\n",
      "Epoch 9/15: 100%|██████████| 1219/1219 [00:43<00:00, 28.30it/s]\n",
      "Epoch 10/15: 100%|██████████| 1219/1219 [00:43<00:00, 28.34it/s]\n",
      "Epoch 11/15: 100%|██████████| 1219/1219 [00:42<00:00, 28.51it/s]\n",
      "Epoch 12/15: 100%|██████████| 1219/1219 [00:42<00:00, 28.42it/s]\n",
      "Epoch 13/15: 100%|██████████| 1219/1219 [00:43<00:00, 28.31it/s]\n",
      "Epoch 14/15: 100%|██████████| 1219/1219 [00:43<00:00, 28.11it/s]\n",
      "Epoch 15/15: 100%|██████████| 1219/1219 [00:43<00:00, 28.30it/s]\n",
      "Epoch 1/15: 100%|██████████| 1219/1219 [00:43<00:00, 28.33it/s]\n",
      "Epoch 2/15: 100%|██████████| 1219/1219 [00:43<00:00, 27.97it/s]\n",
      "Epoch 3/15: 100%|██████████| 1219/1219 [00:43<00:00, 28.10it/s]\n",
      "Epoch 4/15: 100%|██████████| 1219/1219 [00:42<00:00, 28.42it/s]\n",
      "Epoch 5/15: 100%|██████████| 1219/1219 [00:44<00:00, 27.49it/s]\n",
      "Epoch 6/15: 100%|██████████| 1219/1219 [00:42<00:00, 28.52it/s]\n",
      "Epoch 7/15: 100%|██████████| 1219/1219 [00:42<00:00, 28.76it/s]\n",
      "Epoch 8/15: 100%|██████████| 1219/1219 [00:42<00:00, 28.71it/s]\n",
      "Epoch 9/15: 100%|██████████| 1219/1219 [00:42<00:00, 28.73it/s]\n",
      "Epoch 10/15: 100%|██████████| 1219/1219 [00:42<00:00, 28.63it/s]\n",
      "Epoch 11/15: 100%|██████████| 1219/1219 [00:42<00:00, 28.67it/s]\n",
      "Epoch 12/15: 100%|██████████| 1219/1219 [00:42<00:00, 28.73it/s]\n",
      "Epoch 13/15: 100%|██████████| 1219/1219 [00:42<00:00, 28.51it/s]\n",
      "Epoch 14/15: 100%|██████████| 1219/1219 [00:42<00:00, 28.80it/s]\n",
      "Epoch 15/15: 100%|██████████| 1219/1219 [00:42<00:00, 28.77it/s]\n",
      "Epoch 1/15: 100%|██████████| 1219/1219 [00:42<00:00, 28.66it/s]\n",
      "Epoch 2/15: 100%|██████████| 1219/1219 [00:42<00:00, 28.73it/s]\n",
      "Epoch 3/15: 100%|██████████| 1219/1219 [00:42<00:00, 28.64it/s]\n",
      "Epoch 4/15: 100%|██████████| 1219/1219 [00:42<00:00, 28.73it/s]\n",
      "Epoch 5/15: 100%|██████████| 1219/1219 [00:42<00:00, 28.65it/s]\n",
      "Epoch 6/15: 100%|██████████| 1219/1219 [00:42<00:00, 28.71it/s]\n",
      "Epoch 7/15: 100%|██████████| 1219/1219 [00:42<00:00, 28.57it/s]\n",
      "Epoch 8/15: 100%|██████████| 1219/1219 [00:42<00:00, 28.69it/s]\n",
      "Epoch 9/15: 100%|██████████| 1219/1219 [00:42<00:00, 28.74it/s]\n",
      "Epoch 10/15: 100%|██████████| 1219/1219 [00:42<00:00, 28.66it/s]\n",
      "Epoch 11/15: 100%|██████████| 1219/1219 [00:42<00:00, 28.69it/s]\n",
      "Epoch 12/15: 100%|██████████| 1219/1219 [00:42<00:00, 28.65it/s]\n",
      "Epoch 13/15: 100%|██████████| 1219/1219 [00:42<00:00, 28.52it/s]\n",
      "Epoch 14/15: 100%|██████████| 1219/1219 [00:43<00:00, 28.05it/s]\n",
      "Epoch 15/15: 100%|██████████| 1219/1219 [00:43<00:00, 28.02it/s]\n",
      "Epoch 1/15: 100%|██████████| 1219/1219 [00:43<00:00, 27.92it/s]\n",
      "Epoch 2/15: 100%|██████████| 1219/1219 [00:43<00:00, 27.92it/s]\n",
      "Epoch 3/15: 100%|██████████| 1219/1219 [00:43<00:00, 27.95it/s]\n",
      "Epoch 4/15: 100%|██████████| 1219/1219 [00:43<00:00, 27.97it/s]\n",
      "Epoch 5/15: 100%|██████████| 1219/1219 [00:43<00:00, 28.02it/s]\n",
      "Epoch 6/15: 100%|██████████| 1219/1219 [00:43<00:00, 27.99it/s]\n",
      "Epoch 7/15: 100%|██████████| 1219/1219 [00:43<00:00, 28.22it/s]\n",
      "Epoch 8/15: 100%|██████████| 1219/1219 [00:42<00:00, 28.38it/s]\n",
      "Epoch 9/15: 100%|██████████| 1219/1219 [00:42<00:00, 28.67it/s]\n",
      "Epoch 10/15: 100%|██████████| 1219/1219 [00:42<00:00, 28.60it/s]\n",
      "Epoch 11/15: 100%|██████████| 1219/1219 [00:42<00:00, 28.50it/s]\n",
      "Epoch 12/15: 100%|██████████| 1219/1219 [00:42<00:00, 28.48it/s]\n",
      "Epoch 13/15: 100%|██████████| 1219/1219 [00:43<00:00, 28.32it/s]\n",
      "Epoch 14/15: 100%|██████████| 1219/1219 [00:41<00:00, 29.26it/s]\n",
      "Epoch 15/15: 100%|██████████| 1219/1219 [00:42<00:00, 28.82it/s]\n",
      "Epoch 1/15: 100%|██████████| 610/610 [00:34<00:00, 17.80it/s]\n",
      "Epoch 2/15: 100%|██████████| 610/610 [00:33<00:00, 18.09it/s]\n",
      "Epoch 3/15: 100%|██████████| 610/610 [00:33<00:00, 18.47it/s]\n",
      "Epoch 4/15: 100%|██████████| 610/610 [00:33<00:00, 18.41it/s]\n",
      "Epoch 5/15: 100%|██████████| 610/610 [00:33<00:00, 18.15it/s]\n",
      "Epoch 6/15: 100%|██████████| 610/610 [00:33<00:00, 18.23it/s]\n",
      "Epoch 7/15: 100%|██████████| 610/610 [00:34<00:00, 17.73it/s]\n",
      "Epoch 8/15: 100%|██████████| 610/610 [00:33<00:00, 18.06it/s]\n",
      "Epoch 9/15: 100%|██████████| 610/610 [00:34<00:00, 17.79it/s]\n",
      "Epoch 10/15: 100%|██████████| 610/610 [00:33<00:00, 17.95it/s]\n",
      "Epoch 11/15: 100%|██████████| 610/610 [00:33<00:00, 18.02it/s]\n",
      "Epoch 12/15: 100%|██████████| 610/610 [00:33<00:00, 18.06it/s]\n",
      "Epoch 13/15: 100%|██████████| 610/610 [00:33<00:00, 18.34it/s]\n",
      "Epoch 14/15: 100%|██████████| 610/610 [00:33<00:00, 18.35it/s]\n",
      "Epoch 15/15: 100%|██████████| 610/610 [00:33<00:00, 18.36it/s]\n",
      "Epoch 1/15: 100%|██████████| 610/610 [00:33<00:00, 18.32it/s]\n",
      "Epoch 2/15: 100%|██████████| 610/610 [00:33<00:00, 18.39it/s]\n",
      "Epoch 3/15: 100%|██████████| 610/610 [00:33<00:00, 18.37it/s]\n",
      "Epoch 4/15: 100%|██████████| 610/610 [00:33<00:00, 18.30it/s]\n",
      "Epoch 5/15: 100%|██████████| 610/610 [00:33<00:00, 18.43it/s]\n",
      "Epoch 6/15: 100%|██████████| 610/610 [00:33<00:00, 18.25it/s]\n",
      "Epoch 7/15: 100%|██████████| 610/610 [00:33<00:00, 17.98it/s]\n",
      "Epoch 8/15: 100%|██████████| 610/610 [00:33<00:00, 17.99it/s]\n",
      "Epoch 9/15: 100%|██████████| 610/610 [00:33<00:00, 17.96it/s]\n",
      "Epoch 10/15: 100%|██████████| 610/610 [00:33<00:00, 18.00it/s]\n",
      "Epoch 11/15: 100%|██████████| 610/610 [00:33<00:00, 18.33it/s]\n",
      "Epoch 12/15: 100%|██████████| 610/610 [00:33<00:00, 18.42it/s]\n",
      "Epoch 13/15: 100%|██████████| 610/610 [00:33<00:00, 18.30it/s]\n",
      "Epoch 14/15: 100%|██████████| 610/610 [00:33<00:00, 18.33it/s]\n",
      "Epoch 15/15: 100%|██████████| 610/610 [00:33<00:00, 18.24it/s]\n",
      "Epoch 1/15: 100%|██████████| 610/610 [00:33<00:00, 18.39it/s]\n",
      "Epoch 2/15: 100%|██████████| 610/610 [00:33<00:00, 18.41it/s]\n",
      "Epoch 3/15: 100%|██████████| 610/610 [00:33<00:00, 18.36it/s]\n",
      "Epoch 4/15: 100%|██████████| 610/610 [00:33<00:00, 18.40it/s]\n",
      "Epoch 5/15: 100%|██████████| 610/610 [00:33<00:00, 18.33it/s]\n",
      "Epoch 6/15: 100%|██████████| 610/610 [00:33<00:00, 18.40it/s]\n",
      "Epoch 7/15: 100%|██████████| 610/610 [00:33<00:00, 18.40it/s]\n",
      "Epoch 8/15: 100%|██████████| 610/610 [00:33<00:00, 18.42it/s]\n",
      "Epoch 9/15: 100%|██████████| 610/610 [00:33<00:00, 18.37it/s]\n",
      "Epoch 10/15: 100%|██████████| 610/610 [00:33<00:00, 18.41it/s]\n",
      "Epoch 11/15: 100%|██████████| 610/610 [00:33<00:00, 18.26it/s]\n",
      "Epoch 12/15: 100%|██████████| 610/610 [00:33<00:00, 18.37it/s]\n",
      "Epoch 13/15: 100%|██████████| 610/610 [00:32<00:00, 18.58it/s]\n",
      "Epoch 14/15: 100%|██████████| 610/610 [00:32<00:00, 18.56it/s]\n",
      "Epoch 15/15: 100%|██████████| 610/610 [00:33<00:00, 18.03it/s]\n",
      "Epoch 1/15: 100%|██████████| 610/610 [00:33<00:00, 18.26it/s]\n",
      "Epoch 2/15: 100%|██████████| 610/610 [00:33<00:00, 18.26it/s]\n",
      "Epoch 3/15: 100%|██████████| 610/610 [00:32<00:00, 18.49it/s]\n",
      "Epoch 4/15: 100%|██████████| 610/610 [00:33<00:00, 18.17it/s]\n",
      "Epoch 5/15: 100%|██████████| 610/610 [00:33<00:00, 18.44it/s]\n",
      "Epoch 6/15: 100%|██████████| 610/610 [00:32<00:00, 18.57it/s]\n",
      "Epoch 7/15: 100%|██████████| 610/610 [00:32<00:00, 18.66it/s]\n",
      "Epoch 8/15: 100%|██████████| 610/610 [00:32<00:00, 18.74it/s]\n",
      "Epoch 9/15: 100%|██████████| 610/610 [00:32<00:00, 18.73it/s]\n",
      "Epoch 10/15: 100%|██████████| 610/610 [00:32<00:00, 18.72it/s]\n",
      "Epoch 11/15: 100%|██████████| 610/610 [00:32<00:00, 18.69it/s]\n",
      "Epoch 12/15: 100%|██████████| 610/610 [00:32<00:00, 18.57it/s]\n",
      "Epoch 13/15: 100%|██████████| 610/610 [00:33<00:00, 18.15it/s]\n",
      "Epoch 14/15: 100%|██████████| 610/610 [00:32<00:00, 18.56it/s]\n",
      "Epoch 15/15: 100%|██████████| 610/610 [00:32<00:00, 18.57it/s]\n",
      "Epoch 1/15: 100%|██████████| 305/305 [00:30<00:00, 10.04it/s]\n",
      "Epoch 2/15: 100%|██████████| 305/305 [00:28<00:00, 10.58it/s]\n",
      "Epoch 3/15: 100%|██████████| 305/305 [00:28<00:00, 10.62it/s]\n",
      "Epoch 4/15: 100%|██████████| 305/305 [00:28<00:00, 10.60it/s]\n",
      "Epoch 5/15: 100%|██████████| 305/305 [00:28<00:00, 10.63it/s]\n",
      "Epoch 6/15: 100%|██████████| 305/305 [00:28<00:00, 10.63it/s]\n",
      "Epoch 7/15: 100%|██████████| 305/305 [00:29<00:00, 10.40it/s]\n",
      "Epoch 8/15: 100%|██████████| 305/305 [00:28<00:00, 10.58it/s]\n",
      "Epoch 9/15: 100%|██████████| 305/305 [00:29<00:00, 10.38it/s]\n",
      "Epoch 10/15: 100%|██████████| 305/305 [00:29<00:00, 10.31it/s]\n",
      "Epoch 11/15: 100%|██████████| 305/305 [00:28<00:00, 10.62it/s]\n",
      "Epoch 12/15: 100%|██████████| 305/305 [00:28<00:00, 10.54it/s]\n",
      "Epoch 13/15: 100%|██████████| 305/305 [00:28<00:00, 10.56it/s]\n",
      "Epoch 14/15: 100%|██████████| 305/305 [00:28<00:00, 10.54it/s]\n",
      "Epoch 15/15: 100%|██████████| 305/305 [00:29<00:00, 10.42it/s]\n",
      "Epoch 1/15: 100%|██████████| 305/305 [00:29<00:00, 10.40it/s]\n",
      "Epoch 2/15: 100%|██████████| 305/305 [00:28<00:00, 10.57it/s]\n",
      "Epoch 3/15: 100%|██████████| 305/305 [00:28<00:00, 10.56it/s]\n",
      "Epoch 4/15: 100%|██████████| 305/305 [00:28<00:00, 10.62it/s]\n",
      "Epoch 5/15: 100%|██████████| 305/305 [00:28<00:00, 10.59it/s]\n",
      "Epoch 6/15: 100%|██████████| 305/305 [00:28<00:00, 10.64it/s]\n",
      "Epoch 7/15: 100%|██████████| 305/305 [00:28<00:00, 10.63it/s]\n",
      "Epoch 8/15: 100%|██████████| 305/305 [00:28<00:00, 10.62it/s]\n",
      "Epoch 9/15: 100%|██████████| 305/305 [00:28<00:00, 10.64it/s]\n",
      "Epoch 10/15: 100%|██████████| 305/305 [00:28<00:00, 10.65it/s]\n",
      "Epoch 11/15: 100%|██████████| 305/305 [00:28<00:00, 10.62it/s]\n",
      "Epoch 12/15: 100%|██████████| 305/305 [00:28<00:00, 10.65it/s]\n",
      "Epoch 13/15: 100%|██████████| 305/305 [00:28<00:00, 10.64it/s]\n",
      "Epoch 14/15: 100%|██████████| 305/305 [00:28<00:00, 10.66it/s]\n",
      "Epoch 15/15: 100%|██████████| 305/305 [00:28<00:00, 10.64it/s]\n",
      "Epoch 1/15: 100%|██████████| 305/305 [00:28<00:00, 10.66it/s]\n",
      "Epoch 2/15: 100%|██████████| 305/305 [00:28<00:00, 10.64it/s]\n",
      "Epoch 3/15: 100%|██████████| 305/305 [00:28<00:00, 10.60it/s]\n",
      "Epoch 4/15: 100%|██████████| 305/305 [00:28<00:00, 10.64it/s]\n",
      "Epoch 5/15: 100%|██████████| 305/305 [00:29<00:00, 10.46it/s]\n",
      "Epoch 6/15: 100%|██████████| 305/305 [00:28<00:00, 10.62it/s]\n",
      "Epoch 7/15: 100%|██████████| 305/305 [00:28<00:00, 10.64it/s]\n",
      "Epoch 8/15: 100%|██████████| 305/305 [00:28<00:00, 10.65it/s]\n",
      "Epoch 9/15: 100%|██████████| 305/305 [00:29<00:00, 10.34it/s]\n",
      "Epoch 10/15: 100%|██████████| 305/305 [00:29<00:00, 10.41it/s]\n",
      "Epoch 11/15: 100%|██████████| 305/305 [00:28<00:00, 10.65it/s]\n",
      "Epoch 12/15: 100%|██████████| 305/305 [00:28<00:00, 10.65it/s]\n",
      "Epoch 13/15: 100%|██████████| 305/305 [00:28<00:00, 10.71it/s]\n",
      "Epoch 14/15: 100%|██████████| 305/305 [00:28<00:00, 10.66it/s]\n",
      "Epoch 15/15: 100%|██████████| 305/305 [00:28<00:00, 10.71it/s]\n",
      "Epoch 1/15: 100%|██████████| 305/305 [00:28<00:00, 10.71it/s]\n",
      "Epoch 2/15: 100%|██████████| 305/305 [00:28<00:00, 10.68it/s]\n",
      "Epoch 3/15: 100%|██████████| 305/305 [00:28<00:00, 10.70it/s]\n",
      "Epoch 4/15: 100%|██████████| 305/305 [00:28<00:00, 10.65it/s]\n",
      "Epoch 5/15: 100%|██████████| 305/305 [00:29<00:00, 10.40it/s]\n",
      "Epoch 6/15: 100%|██████████| 305/305 [00:28<00:00, 10.69it/s]\n",
      "Epoch 7/15: 100%|██████████| 305/305 [00:28<00:00, 10.72it/s]\n",
      "Epoch 8/15: 100%|██████████| 305/305 [00:29<00:00, 10.21it/s]\n",
      "Epoch 9/15: 100%|██████████| 305/305 [00:29<00:00, 10.43it/s]\n",
      "Epoch 10/15: 100%|██████████| 305/305 [00:28<00:00, 10.59it/s]\n",
      "Epoch 11/15: 100%|██████████| 305/305 [00:28<00:00, 10.53it/s]\n",
      "Epoch 12/15: 100%|██████████| 305/305 [00:28<00:00, 10.59it/s]\n",
      "Epoch 13/15: 100%|██████████| 305/305 [00:28<00:00, 10.61it/s]\n",
      "Epoch 14/15: 100%|██████████| 305/305 [00:28<00:00, 10.55it/s]\n",
      "Epoch 15/15: 100%|██████████| 305/305 [00:29<00:00, 10.24it/s]\n",
      "Epoch 1/15: 100%|██████████| 153/153 [00:26<00:00,  5.67it/s]\n",
      "Epoch 2/15: 100%|██████████| 153/153 [00:27<00:00,  5.64it/s]\n",
      "Epoch 3/15: 100%|██████████| 153/153 [00:26<00:00,  5.71it/s]\n",
      "Epoch 4/15: 100%|██████████| 153/153 [00:26<00:00,  5.76it/s]\n",
      "Epoch 5/15: 100%|██████████| 153/153 [00:26<00:00,  5.73it/s]\n",
      "Epoch 6/15: 100%|██████████| 153/153 [00:26<00:00,  5.74it/s]\n",
      "Epoch 7/15: 100%|██████████| 153/153 [00:26<00:00,  5.71it/s]\n",
      "Epoch 8/15: 100%|██████████| 153/153 [00:26<00:00,  5.74it/s]\n",
      "Epoch 9/15: 100%|██████████| 153/153 [00:26<00:00,  5.75it/s]\n",
      "Epoch 10/15: 100%|██████████| 153/153 [00:26<00:00,  5.74it/s]\n",
      "Epoch 11/15: 100%|██████████| 153/153 [00:26<00:00,  5.72it/s]\n",
      "Epoch 12/15: 100%|██████████| 153/153 [00:26<00:00,  5.76it/s]\n",
      "Epoch 13/15: 100%|██████████| 153/153 [00:26<00:00,  5.75it/s]\n",
      "Epoch 14/15: 100%|██████████| 153/153 [00:26<00:00,  5.74it/s]\n",
      "Epoch 15/15: 100%|██████████| 153/153 [00:26<00:00,  5.75it/s]\n",
      "Epoch 1/15: 100%|██████████| 153/153 [00:26<00:00,  5.76it/s]\n",
      "Epoch 2/15: 100%|██████████| 153/153 [00:26<00:00,  5.75it/s]\n",
      "Epoch 3/15: 100%|██████████| 153/153 [00:26<00:00,  5.75it/s]\n",
      "Epoch 4/15: 100%|██████████| 153/153 [00:26<00:00,  5.74it/s]\n",
      "Epoch 5/15: 100%|██████████| 153/153 [00:26<00:00,  5.72it/s]\n",
      "Epoch 6/15: 100%|██████████| 153/153 [00:26<00:00,  5.75it/s]\n",
      "Epoch 7/15: 100%|██████████| 153/153 [00:26<00:00,  5.75it/s]\n",
      "Epoch 8/15: 100%|██████████| 153/153 [00:27<00:00,  5.66it/s]\n",
      "Epoch 9/15: 100%|██████████| 153/153 [00:26<00:00,  5.73it/s]\n",
      "Epoch 10/15: 100%|██████████| 153/153 [00:26<00:00,  5.75it/s]\n",
      "Epoch 11/15: 100%|██████████| 153/153 [00:26<00:00,  5.74it/s]\n",
      "Epoch 12/15: 100%|██████████| 153/153 [00:26<00:00,  5.76it/s]\n",
      "Epoch 13/15: 100%|██████████| 153/153 [00:26<00:00,  5.76it/s]\n",
      "Epoch 14/15: 100%|██████████| 153/153 [00:26<00:00,  5.68it/s]\n",
      "Epoch 15/15: 100%|██████████| 153/153 [00:26<00:00,  5.73it/s]\n",
      "Epoch 1/15: 100%|██████████| 153/153 [00:26<00:00,  5.75it/s]\n",
      "Epoch 2/15: 100%|██████████| 153/153 [00:26<00:00,  5.72it/s]\n",
      "Epoch 3/15: 100%|██████████| 153/153 [00:27<00:00,  5.62it/s]\n",
      "Epoch 4/15: 100%|██████████| 153/153 [00:27<00:00,  5.64it/s]\n",
      "Epoch 5/15: 100%|██████████| 153/153 [00:27<00:00,  5.65it/s]\n",
      "Epoch 6/15: 100%|██████████| 153/153 [00:26<00:00,  5.67it/s]\n",
      "Epoch 7/15: 100%|██████████| 153/153 [00:26<00:00,  5.74it/s]\n",
      "Epoch 8/15: 100%|██████████| 153/153 [00:26<00:00,  5.78it/s]\n",
      "Epoch 9/15: 100%|██████████| 153/153 [00:26<00:00,  5.75it/s]\n",
      "Epoch 10/15: 100%|██████████| 153/153 [00:26<00:00,  5.79it/s]\n",
      "Epoch 11/15: 100%|██████████| 153/153 [00:26<00:00,  5.79it/s]\n",
      "Epoch 12/15: 100%|██████████| 153/153 [00:26<00:00,  5.77it/s]\n",
      "Epoch 13/15: 100%|██████████| 153/153 [00:26<00:00,  5.78it/s]\n",
      "Epoch 14/15: 100%|██████████| 153/153 [00:26<00:00,  5.77it/s]\n",
      "Epoch 15/15: 100%|██████████| 153/153 [00:26<00:00,  5.78it/s]\n",
      "Epoch 1/15: 100%|██████████| 153/153 [00:26<00:00,  5.80it/s]\n",
      "Epoch 2/15: 100%|██████████| 153/153 [00:26<00:00,  5.79it/s]\n",
      "Epoch 3/15: 100%|██████████| 153/153 [00:26<00:00,  5.79it/s]\n",
      "Epoch 4/15: 100%|██████████| 153/153 [00:26<00:00,  5.76it/s]\n",
      "Epoch 5/15: 100%|██████████| 153/153 [00:26<00:00,  5.77it/s]\n",
      "Epoch 6/15: 100%|██████████| 153/153 [00:26<00:00,  5.78it/s]\n",
      "Epoch 7/15: 100%|██████████| 153/153 [00:26<00:00,  5.79it/s]\n",
      "Epoch 8/15: 100%|██████████| 153/153 [00:26<00:00,  5.78it/s]\n",
      "Epoch 9/15: 100%|██████████| 153/153 [00:26<00:00,  5.78it/s]\n",
      "Epoch 10/15: 100%|██████████| 153/153 [00:26<00:00,  5.77it/s]\n",
      "Epoch 11/15: 100%|██████████| 153/153 [00:26<00:00,  5.75it/s]\n",
      "Epoch 12/15: 100%|██████████| 153/153 [00:27<00:00,  5.64it/s]\n",
      "Epoch 13/15: 100%|██████████| 153/153 [00:26<00:00,  5.77it/s]\n",
      "Epoch 14/15: 100%|██████████| 153/153 [00:26<00:00,  5.79it/s]\n",
      "Epoch 15/15: 100%|██████████| 153/153 [00:26<00:00,  5.78it/s]\n"
     ]
    },
    {
     "name": "stdout",
     "output_type": "stream",
     "text": [
      "LR: 0.1, Batch Size: 8, Best Val Acc: 0.1669449081803005\n",
      "LR: 0.01, Batch Size: 8, Best Val Acc: 0.332220367278798\n",
      "LR: 0.001, Batch Size: 8, Best Val Acc: 0.5308848080133556\n",
      "LR: 0.0001, Batch Size: 8, Best Val Acc: 0.5058430717863105\n",
      "LR: 0.1, Batch Size: 16, Best Val Acc: 0.1669449081803005\n",
      "LR: 0.01, Batch Size: 16, Best Val Acc: 0.4006677796327212\n",
      "LR: 0.001, Batch Size: 16, Best Val Acc: 0.5091819699499165\n",
      "LR: 0.0001, Batch Size: 16, Best Val Acc: 0.41235392320534225\n",
      "LR: 0.1, Batch Size: 32, Best Val Acc: 0.1669449081803005\n",
      "LR: 0.01, Batch Size: 32, Best Val Acc: 0.44908180300500833\n",
      "LR: 0.001, Batch Size: 32, Best Val Acc: 0.5025041736227045\n",
      "LR: 0.0001, Batch Size: 32, Best Val Acc: 0.4273789649415693\n",
      "LR: 0.1, Batch Size: 64, Best Val Acc: 0.1669449081803005\n",
      "LR: 0.01, Batch Size: 64, Best Val Acc: 0.4607679465776294\n",
      "LR: 0.001, Batch Size: 64, Best Val Acc: 0.4240400667779633\n",
      "LR: 0.0001, Batch Size: 64, Best Val Acc: 0.3739565943238731\n",
      "Best params: {'lr': 0.001, 'batch_size': 8, 'best_val_acc': 0.5308848080133556}\n"
     ]
    }
   ],
   "source": [
    "# for params in grid: # Hyperparameter tuning \n",
    "#     data_train_loader = DataLoader(rafdb_dataset_train, batch_size=params['batch_size'], shuffle=True, num_workers=4)\n",
    "#     data_vali_loader = DataLoader(rafdb_dataset_vali, batch_size=params['batch_size'], shuffle=False, num_workers=0)\n",
    "    \n",
    "#     model = EmotionClassifier().to(device)\n",
    "#     optimizer = optim.Adam(model.parameters(), lr=params['lr'])\n",
    "#     criterion = nn.CrossEntropyLoss()\n",
    "    \n",
    "#     best_val_acc = 0\n",
    "#     num_epochs = 15\n",
    "    \n",
    "#     for epoch in range(num_epochs):\n",
    "#         model.train()\n",
    "#         for i, data in enumerate(tqdm(data_train_loader, desc=f\"Epoch {epoch+1}/{num_epochs}\"), 0):\n",
    "#             inputs, labels = data[0].to(device), data[1].to(device)\n",
    "#             optimizer.zero_grad()\n",
    "#             outputs = model(inputs)\n",
    "#             loss = criterion(outputs, labels)\n",
    "#             loss.backward()\n",
    "#             optimizer.step()\n",
    "\n",
    "#     model.eval()\n",
    "#     val_correct = 0\n",
    "#     val_total = 0\n",
    "#     with torch.no_grad():\n",
    "#         for data in data_vali_loader:\n",
    "#             inputs, labels = data[0].to(device), data[1].to(device)\n",
    "#             outputs = model(inputs)\n",
    "#             _, predicted = torch.max(outputs.data, 1)\n",
    "#             val_total += labels.size(0)\n",
    "#             val_correct += (predicted == labels).sum().item()\n",
    "    \n",
    "#     val_acc = val_correct / val_total\n",
    "#     best_val_acc = max(best_val_acc, val_acc)\n",
    "    \n",
    "#     results.append({\n",
    "#         'lr': params['lr'],\n",
    "#         'batch_size': params['batch_size'],\n",
    "#         'best_val_acc': best_val_acc,\n",
    "#     })\n",
    "\n",
    "# for result in results:\n",
    "#     print(f\"LR: {result['lr']}, Batch Size: {result['batch_size']}, Best Val Acc: {result['best_val_acc']}\")\n",
    "\n",
    "# best_params = max(results, key=lambda x: x['best_val_acc'])\n",
    "# print(f\"Best params: {best_params}\")"
   ]
  },
  {
   "cell_type": "code",
   "execution_count": 13,
   "metadata": {},
   "outputs": [],
   "source": [
    "model = EmotionClassifier().to(device)\n",
    "criterion = nn.CrossEntropyLoss()\n",
    "optimizer = optim.Adam(model.parameters(), lr=0.01)\n",
    "\n",
    "patience = 5\n",
    "best_val_acc = 0  \n",
    "patience_counter = 0\n",
    "\n",
    "num_epochs = 20"
   ]
  },
  {
   "cell_type": "code",
   "execution_count": 14,
   "metadata": {},
   "outputs": [
    {
     "name": "stderr",
     "output_type": "stream",
     "text": [
      "Epoch 1/50: 100%|██████████| 4254/4254 [01:19<00:00, 53.72it/s]\n"
     ]
    },
    {
     "name": "stdout",
     "output_type": "stream",
     "text": [
      "Epoch 1, Train Loss: 1.1626297785752975, Train Accuracy: 0.37436816739155987, Test Loss: 1.1041949180057615, Test Accuracy: 0.5117252931323283, Validation Loss: 1.630440636475881, Validation Accuracy: 0.18363939899833054\n"
     ]
    },
    {
     "name": "stderr",
     "output_type": "stream",
     "text": [
      "Epoch 2/50: 100%|██████████| 4254/4254 [01:18<00:00, 54.20it/s]\n"
     ]
    },
    {
     "name": "stdout",
     "output_type": "stream",
     "text": [
      "Epoch 2, Train Loss: 1.0482491980721456, Train Accuracy: 0.4314682026566357, Test Loss: 0.9665597313423221, Test Accuracy: 0.551926298157454, Validation Loss: 1.393833239475886, Validation Accuracy: 0.25041736227045075\n"
     ]
    },
    {
     "name": "stderr",
     "output_type": "stream",
     "text": [
      "Epoch 3/50: 100%|██████████| 4254/4254 [01:17<00:00, 54.54it/s]\n"
     ]
    },
    {
     "name": "stdout",
     "output_type": "stream",
     "text": [
      "Epoch 3, Train Loss: 0.9653248787626841, Train Accuracy: 0.47070059950628895, Test Loss: 0.8901402858587412, Test Accuracy: 0.6088777219430486, Validation Loss: 1.402551916440328, Validation Accuracy: 0.31385642737896496\n"
     ]
    },
    {
     "name": "stderr",
     "output_type": "stream",
     "text": [
      "Epoch 4/50: 100%|██████████| 4254/4254 [01:17<00:00, 55.04it/s]\n"
     ]
    },
    {
     "name": "stdout",
     "output_type": "stream",
     "text": [
      "Epoch 4, Train Loss: 0.9057923870421263, Train Accuracy: 0.5024979428705771, Test Loss: 0.8860121685326299, Test Accuracy: 0.6155778894472361, Validation Loss: 1.4639683932065963, Validation Accuracy: 0.2921535893155259\n",
      "No improvement in validation accuracy for 1 epochs.\n"
     ]
    },
    {
     "name": "stderr",
     "output_type": "stream",
     "text": [
      "Epoch 5/50: 100%|██████████| 4254/4254 [01:17<00:00, 55.04it/s]\n"
     ]
    },
    {
     "name": "stdout",
     "output_type": "stream",
     "text": [
      "Epoch 5, Train Loss: 0.8580735016423293, Train Accuracy: 0.5246561655107559, Test Loss: 0.7884636523332883, Test Accuracy: 0.6469849246231156, Validation Loss: 1.2231259965896606, Validation Accuracy: 0.34557595993322204\n"
     ]
    },
    {
     "name": "stderr",
     "output_type": "stream",
     "text": [
      "Epoch 6/50: 100%|██████████| 4254/4254 [01:17<00:00, 54.74it/s]\n"
     ]
    },
    {
     "name": "stdout",
     "output_type": "stream",
     "text": [
      "Epoch 6, Train Loss: 0.8156736669164338, Train Accuracy: 0.5418772775361467, Test Loss: 0.7137552171347532, Test Accuracy: 0.6779731993299832, Validation Loss: 1.0911578353246052, Validation Accuracy: 0.3722871452420701\n"
     ]
    },
    {
     "name": "stderr",
     "output_type": "stream",
     "text": [
      "Epoch 7/50: 100%|██████████| 4254/4254 [01:17<00:00, 55.11it/s]\n"
     ]
    },
    {
     "name": "stdout",
     "output_type": "stream",
     "text": [
      "Epoch 7, Train Loss: 0.7852032822996841, Train Accuracy: 0.5537204654990008, Test Loss: 0.7626969136615411, Test Accuracy: 0.6637353433835846, Validation Loss: 1.2820789460341135, Validation Accuracy: 0.3622704507512521\n",
      "No improvement in validation accuracy for 1 epochs.\n"
     ]
    },
    {
     "name": "stderr",
     "output_type": "stream",
     "text": [
      "Epoch 8/50: 100%|██████████| 4254/4254 [01:16<00:00, 55.32it/s]\n"
     ]
    },
    {
     "name": "stdout",
     "output_type": "stream",
     "text": [
      "Epoch 8, Train Loss: 0.7575602574999911, Train Accuracy: 0.5637122369813095, Test Loss: 0.7027132584274214, Test Accuracy: 0.6708542713567839, Validation Loss: 1.0777988998095194, Validation Accuracy: 0.4040066777963272\n"
     ]
    },
    {
     "name": "stderr",
     "output_type": "stream",
     "text": [
      "Epoch 9/50: 100%|██████████| 4254/4254 [01:17<00:00, 55.13it/s]\n"
     ]
    },
    {
     "name": "stdout",
     "output_type": "stream",
     "text": [
      "Epoch 9, Train Loss: 0.7329436230447387, Train Accuracy: 0.5719701422358058, Test Loss: 0.6774232044541916, Test Accuracy: 0.6804857621440537, Validation Loss: 1.143576326171557, Validation Accuracy: 0.41235392320534225\n"
     ]
    },
    {
     "name": "stderr",
     "output_type": "stream",
     "text": [
      "Epoch 10/50: 100%|██████████| 4254/4254 [01:17<00:00, 55.11it/s]\n"
     ]
    },
    {
     "name": "stdout",
     "output_type": "stream",
     "text": [
      "Epoch 10, Train Loss: 0.7172290550960385, Train Accuracy: 0.5821088515340308, Test Loss: 0.6250250218591862, Test Accuracy: 0.7135678391959799, Validation Loss: 1.0103559543689091, Validation Accuracy: 0.4257095158597663\n"
     ]
    },
    {
     "name": "stderr",
     "output_type": "stream",
     "text": [
      "Epoch 11/50: 100%|██████████| 4254/4254 [01:16<00:00, 55.61it/s]\n"
     ]
    },
    {
     "name": "stdout",
     "output_type": "stream",
     "text": [
      "Epoch 11, Train Loss: 0.6980657381809929, Train Accuracy: 0.5869871870224521, Test Loss: 0.6466799907909588, Test Accuracy: 0.7085427135678392, Validation Loss: 1.0591618879636129, Validation Accuracy: 0.41402337228714525\n",
      "No improvement in validation accuracy for 1 epochs.\n"
     ]
    },
    {
     "name": "stderr",
     "output_type": "stream",
     "text": [
      "Epoch 12/50: 100%|██████████| 4254/4254 [01:17<00:00, 55.13it/s]\n"
     ]
    },
    {
     "name": "stdout",
     "output_type": "stream",
     "text": [
      "Epoch 12, Train Loss: 0.681042099544944, Train Accuracy: 0.5959503937933467, Test Loss: 0.6134850041672937, Test Accuracy: 0.7219430485762144, Validation Loss: 1.0046496466795602, Validation Accuracy: 0.4574290484140234\n"
     ]
    },
    {
     "name": "stderr",
     "output_type": "stream",
     "text": [
      "Epoch 13/50: 100%|██████████| 4254/4254 [01:16<00:00, 55.48it/s]\n"
     ]
    },
    {
     "name": "stdout",
     "output_type": "stream",
     "text": [
      "Epoch 13, Train Loss: 0.6633816826243529, Train Accuracy: 0.6016515810508992, Test Loss: 0.6150080922112666, Test Accuracy: 0.7139865996649917, Validation Loss: 1.1061151627699535, Validation Accuracy: 0.44240400667779634\n",
      "No improvement in validation accuracy for 1 epochs.\n"
     ]
    },
    {
     "name": "stderr",
     "output_type": "stream",
     "text": [
      "Epoch 14/50: 100%|██████████| 4254/4254 [01:17<00:00, 54.63it/s]\n"
     ]
    },
    {
     "name": "stdout",
     "output_type": "stream",
     "text": [
      "Epoch 14, Train Loss: 0.6564560474045873, Train Accuracy: 0.6050311508169742, Test Loss: 0.6053576597158975, Test Accuracy: 0.7269681742043551, Validation Loss: 1.0979460614919663, Validation Accuracy: 0.4290484140233723\n",
      "No improvement in validation accuracy for 2 epochs.\n"
     ]
    },
    {
     "name": "stderr",
     "output_type": "stream",
     "text": [
      "Epoch 15/50: 100%|██████████| 4254/4254 [01:18<00:00, 54.43it/s]\n"
     ]
    },
    {
     "name": "stdout",
     "output_type": "stream",
     "text": [
      "Epoch 15, Train Loss: 0.6404798388096702, Train Accuracy: 0.6106441753849771, Test Loss: 0.6361748748163016, Test Accuracy: 0.699748743718593, Validation Loss: 0.965173176129659, Validation Accuracy: 0.46410684474123537\n"
     ]
    },
    {
     "name": "stderr",
     "output_type": "stream",
     "text": [
      "Epoch 16/50: 100%|██████████| 4254/4254 [01:19<00:00, 53.28it/s]\n"
     ]
    },
    {
     "name": "stdout",
     "output_type": "stream",
     "text": [
      "Epoch 16, Train Loss: 0.6295322572057572, Train Accuracy: 0.6157869989420477, Test Loss: 0.6108740516143998, Test Accuracy: 0.7085427135678392, Validation Loss: 1.0151441615819932, Validation Accuracy: 0.4757929883138564\n"
     ]
    },
    {
     "name": "stderr",
     "output_type": "stream",
     "text": [
      "Epoch 17/50: 100%|██████████| 4254/4254 [01:19<00:00, 53.50it/s]\n"
     ]
    },
    {
     "name": "stdout",
     "output_type": "stream",
     "text": [
      "Epoch 17, Train Loss: 0.6223314339605909, Train Accuracy: 0.617844128364876, Test Loss: 0.5974130940103412, Test Accuracy: 0.7223618090452262, Validation Loss: 0.9036719620227813, Validation Accuracy: 0.48414023372287146\n"
     ]
    },
    {
     "name": "stderr",
     "output_type": "stream",
     "text": [
      "Epoch 18/50: 100%|██████████| 4254/4254 [01:17<00:00, 54.62it/s]\n"
     ]
    },
    {
     "name": "stdout",
     "output_type": "stream",
     "text": [
      "Epoch 18, Train Loss: 0.6138190162732854, Train Accuracy: 0.6220465499000822, Test Loss: 0.5888803515670491, Test Accuracy: 0.7156616415410385, Validation Loss: 1.0056691980361938, Validation Accuracy: 0.4507512520868113\n",
      "No improvement in validation accuracy for 1 epochs.\n"
     ]
    },
    {
     "name": "stderr",
     "output_type": "stream",
     "text": [
      "Epoch 19/50: 100%|██████████| 4254/4254 [01:18<00:00, 54.24it/s]\n"
     ]
    },
    {
     "name": "stdout",
     "output_type": "stream",
     "text": [
      "Epoch 19, Train Loss: 0.6039574642353273, Train Accuracy: 0.6242800047020101, Test Loss: 0.5906704146302862, Test Accuracy: 0.7135678391959799, Validation Loss: 0.8519870805740356, Validation Accuracy: 0.4974958263772955\n"
     ]
    },
    {
     "name": "stderr",
     "output_type": "stream",
     "text": [
      "Epoch 20/50: 100%|██████████| 4254/4254 [01:19<00:00, 53.75it/s]\n"
     ]
    },
    {
     "name": "stdout",
     "output_type": "stream",
     "text": [
      "Epoch 20, Train Loss: 0.5957954697099439, Train Accuracy: 0.6318032208769249, Test Loss: 0.5917507320592634, Test Accuracy: 0.7261306532663316, Validation Loss: 0.9187887677550316, Validation Accuracy: 0.5075125208681135\n"
     ]
    },
    {
     "name": "stderr",
     "output_type": "stream",
     "text": [
      "Epoch 21/50: 100%|██████████| 4254/4254 [01:16<00:00, 55.51it/s]\n"
     ]
    },
    {
     "name": "stdout",
     "output_type": "stream",
     "text": [
      "Epoch 21, Train Loss: 0.589256433865185, Train Accuracy: 0.6310979193605266, Test Loss: 0.5563943319452497, Test Accuracy: 0.7361809045226131, Validation Loss: 0.9959717919429143, Validation Accuracy: 0.4791318864774624\n",
      "No improvement in validation accuracy for 1 epochs.\n"
     ]
    },
    {
     "name": "stderr",
     "output_type": "stream",
     "text": [
      "Epoch 22/50: 100%|██████████| 4254/4254 [01:17<00:00, 54.96it/s]\n"
     ]
    },
    {
     "name": "stdout",
     "output_type": "stream",
     "text": [
      "Epoch 22, Train Loss: 0.5782239154614132, Train Accuracy: 0.635535441401199, Test Loss: 0.6468903678453786, Test Accuracy: 0.7060301507537688, Validation Loss: 1.1817099018891652, Validation Accuracy: 0.43906510851419034\n",
      "No improvement in validation accuracy for 2 epochs.\n"
     ]
    },
    {
     "name": "stderr",
     "output_type": "stream",
     "text": [
      "Epoch 23/50: 100%|██████████| 4254/4254 [01:16<00:00, 55.58it/s]\n"
     ]
    },
    {
     "name": "stdout",
     "output_type": "stream",
     "text": [
      "Epoch 23, Train Loss: 0.571679138478041, Train Accuracy: 0.6388856236040907, Test Loss: 0.5535445294551626, Test Accuracy: 0.740787269681742, Validation Loss: 0.934253798176845, Validation Accuracy: 0.5025041736227045\n",
      "No improvement in validation accuracy for 3 epochs.\n"
     ]
    },
    {
     "name": "stderr",
     "output_type": "stream",
     "text": [
      "Epoch 24/50: 100%|██████████| 4254/4254 [01:16<00:00, 55.54it/s]\n"
     ]
    },
    {
     "name": "stdout",
     "output_type": "stream",
     "text": [
      "Epoch 24, Train Loss: 0.5712128276737485, Train Accuracy: 0.6376513459503937, Test Loss: 0.5905937598893625, Test Accuracy: 0.7236180904522613, Validation Loss: 1.006297498246034, Validation Accuracy: 0.4974958263772955\n",
      "No improvement in validation accuracy for 4 epochs.\n"
     ]
    },
    {
     "name": "stderr",
     "output_type": "stream",
     "text": [
      "Epoch 25/50: 100%|██████████| 4254/4254 [01:16<00:00, 55.46it/s]\n"
     ]
    },
    {
     "name": "stdout",
     "output_type": "stream",
     "text": [
      "Epoch 25, Train Loss: 0.5631210219446039, Train Accuracy: 0.6406194898319031, Test Loss: 0.5460595841142645, Test Accuracy: 0.7458123953098827, Validation Loss: 0.9011162795623143, Validation Accuracy: 0.5158597662771286\n"
     ]
    },
    {
     "name": "stderr",
     "output_type": "stream",
     "text": [
      "Epoch 26/50: 100%|██████████| 4254/4254 [01:16<00:00, 55.41it/s]\n"
     ]
    },
    {
     "name": "stdout",
     "output_type": "stream",
     "text": [
      "Epoch 26, Train Loss: 0.5600649478891712, Train Accuracy: 0.6427060068179147, Test Loss: 0.5400783977032106, Test Accuracy: 0.7550251256281407, Validation Loss: 0.8451233208179474, Validation Accuracy: 0.5475792988313857\n"
     ]
    },
    {
     "name": "stderr",
     "output_type": "stream",
     "text": [
      "Epoch 27/50: 100%|██████████| 4254/4254 [01:16<00:00, 55.69it/s]\n"
     ]
    },
    {
     "name": "stdout",
     "output_type": "stream",
     "text": [
      "Epoch 27, Train Loss: 0.5505182399481472, Train Accuracy: 0.645115786998942, Test Loss: 0.5430616267137603, Test Accuracy: 0.7374371859296482, Validation Loss: 0.8778353305657705, Validation Accuracy: 0.5208681135225376\n",
      "No improvement in validation accuracy for 1 epochs.\n"
     ]
    },
    {
     "name": "stderr",
     "output_type": "stream",
     "text": [
      "Epoch 28/50: 100%|██████████| 4254/4254 [01:18<00:00, 54.23it/s]\n"
     ]
    },
    {
     "name": "stdout",
     "output_type": "stream",
     "text": [
      "Epoch 28, Train Loss: 0.5454810830332307, Train Accuracy: 0.6500822851769131, Test Loss: 0.5310941769688524, Test Accuracy: 0.7520938023450586, Validation Loss: 0.9353489249944686, Validation Accuracy: 0.5041736227045075\n",
      "No improvement in validation accuracy for 2 epochs.\n"
     ]
    },
    {
     "name": "stderr",
     "output_type": "stream",
     "text": [
      "Epoch 29/50: 100%|██████████| 4254/4254 [01:19<00:00, 53.59it/s]\n"
     ]
    },
    {
     "name": "stdout",
     "output_type": "stream",
     "text": [
      "Epoch 29, Train Loss: 0.5398224418156189, Train Accuracy: 0.6503761608087457, Test Loss: 0.5509353397526221, Test Accuracy: 0.7432998324958124, Validation Loss: 0.9818180494010449, Validation Accuracy: 0.4774624373956594\n",
      "No improvement in validation accuracy for 3 epochs.\n"
     ]
    },
    {
     "name": "stderr",
     "output_type": "stream",
     "text": [
      "Epoch 30/50: 100%|██████████| 4254/4254 [01:18<00:00, 53.86it/s]\n"
     ]
    },
    {
     "name": "stdout",
     "output_type": "stream",
     "text": [
      "Epoch 30, Train Loss: 0.5464505264977783, Train Accuracy: 0.6479369930645351, Test Loss: 0.5841929415929252, Test Accuracy: 0.7395309882747069, Validation Loss: 0.9859482988715171, Validation Accuracy: 0.4691151919866444\n",
      "No improvement in validation accuracy for 4 epochs.\n"
     ]
    },
    {
     "name": "stderr",
     "output_type": "stream",
     "text": [
      "Epoch 31/50: 100%|██████████| 4254/4254 [01:20<00:00, 53.11it/s]\n"
     ]
    },
    {
     "name": "stdout",
     "output_type": "stream",
     "text": [
      "Epoch 31, Train Loss: 0.531495781312817, Train Accuracy: 0.655019395791701, Test Loss: 0.5726049126602435, Test Accuracy: 0.731574539363484, Validation Loss: 0.8809782384832701, Validation Accuracy: 0.5258764607679466\n",
      "No improvement in validation accuracy for 5 epochs.\n"
     ]
    },
    {
     "name": "stderr",
     "output_type": "stream",
     "text": [
      "Epoch 32/50: 100%|██████████| 4254/4254 [01:16<00:00, 55.36it/s]\n"
     ]
    },
    {
     "name": "stdout",
     "output_type": "stream",
     "text": [
      "Epoch 32, Train Loss: 0.527567891991993, Train Accuracy: 0.6561067356294816, Test Loss: 0.5348017245451655, Test Accuracy: 0.7378559463986599, Validation Loss: 0.9070140778024991, Validation Accuracy: 0.5191986644407346\n",
      "No improvement in validation accuracy for 6 epochs.\n"
     ]
    },
    {
     "name": "stderr",
     "output_type": "stream",
     "text": [
      "Epoch 33/50: 100%|██████████| 4254/4254 [01:16<00:00, 55.27it/s]\n"
     ]
    },
    {
     "name": "stdout",
     "output_type": "stream",
     "text": [
      "Epoch 33, Train Loss: 0.5252782086509866, Train Accuracy: 0.6562242858822146, Test Loss: 0.5390184909957196, Test Accuracy: 0.7479061976549414, Validation Loss: 0.9364299393196901, Validation Accuracy: 0.5258764607679466\n",
      "No improvement in validation accuracy for 7 epochs.\n"
     ]
    },
    {
     "name": "stderr",
     "output_type": "stream",
     "text": [
      "Epoch 34/50: 100%|██████████| 4254/4254 [01:16<00:00, 55.51it/s]\n"
     ]
    },
    {
     "name": "stdout",
     "output_type": "stream",
     "text": [
      "Epoch 34, Train Loss: 0.5224470497743013, Train Accuracy: 0.6583401904314095, Test Loss: 0.5532184223937225, Test Accuracy: 0.7449748743718593, Validation Loss: 1.1050211862971386, Validation Accuracy: 0.48080133555926546\n",
      "No improvement in validation accuracy for 8 epochs.\n"
     ]
    },
    {
     "name": "stderr",
     "output_type": "stream",
     "text": [
      "Epoch 35/50: 100%|██████████| 4254/4254 [01:16<00:00, 55.38it/s]\n"
     ]
    },
    {
     "name": "stdout",
     "output_type": "stream",
     "text": [
      "Epoch 35, Train Loss: 0.5152578086350997, Train Accuracy: 0.6589279416950746, Test Loss: 0.5529339677968801, Test Accuracy: 0.7487437185929648, Validation Loss: 1.0924465397000314, Validation Accuracy: 0.4741235392320534\n",
      "No improvement in validation accuracy for 9 epochs.\n"
     ]
    },
    {
     "name": "stderr",
     "output_type": "stream",
     "text": [
      "Epoch 36/50: 100%|██████████| 4254/4254 [01:17<00:00, 54.61it/s]\n"
     ]
    },
    {
     "name": "stdout",
     "output_type": "stream",
     "text": [
      "Epoch 36, Train Loss: 0.513788252172028, Train Accuracy: 0.6617197601974845, Test Loss: 0.614313279910879, Test Accuracy: 0.7093802345058626, Validation Loss: 0.8987617115179698, Validation Accuracy: 0.5191986644407346\n",
      "No improvement in validation accuracy for 10 epochs.\n"
     ]
    },
    {
     "name": "stderr",
     "output_type": "stream",
     "text": [
      "Epoch 37/50: 100%|██████████| 4254/4254 [01:16<00:00, 55.37it/s]\n"
     ]
    },
    {
     "name": "stdout",
     "output_type": "stream",
     "text": [
      "Epoch 37, Train Loss: 0.5107232419666989, Train Accuracy: 0.6631009756670977, Test Loss: 0.5566090265488296, Test Accuracy: 0.7441373534338358, Validation Loss: 0.9484049906333287, Validation Accuracy: 0.5125208681135225\n",
      "No improvement in validation accuracy for 11 epochs.\n",
      "Stopping early due to lack of improvement in validation accuracy.\n"
     ]
    }
   ],
   "source": [
    "train_losses = []\n",
    "val_losses = []\n",
    "train_accuracies = []\n",
    "val_accuracies = []\n",
    "test_losses = []\n",
    "test_accuracies = []\n",
    "\n",
    "for epoch in range(num_epochs):\n",
    "    model.train()\n",
    "    running_loss = 0.0\n",
    "    correct = 0\n",
    "    total = 0\n",
    "\n",
    "    for data in tqdm(data_train_loader, desc=f\"Epoch {epoch+1}/{num_epochs}\"):\n",
    "        inputs, labels = data[0].to(device), data[1].to(device)\n",
    "\n",
    "        optimizer.zero_grad()\n",
    "        outputs = model(inputs)\n",
    "        loss = criterion(outputs, labels)\n",
    "        loss.backward()\n",
    "        optimizer.step()\n",
    "\n",
    "        running_loss += loss.item()\n",
    "        _, predicted = torch.max(outputs.data, 1)\n",
    "        total += labels.size(0)\n",
    "        correct += (predicted == labels).sum().item()\n",
    "\n",
    "    train_loss = running_loss / len(data_train_loader)\n",
    "    train_acc = correct / total\n",
    "    train_losses.append(train_loss)\n",
    "    train_accuracies.append(train_acc)\n",
    "\n",
    "    model.eval()\n",
    "    test_running_loss = 0.0\n",
    "    test_correct = 0\n",
    "    test_total = 0\n",
    "    with torch.no_grad():\n",
    "        for data in data_test_loader:\n",
    "            inputs, labels = data[0].to(device), data[1].to(device)\n",
    "            outputs = model(inputs)\n",
    "            loss = criterion(outputs, labels)\n",
    "            test_running_loss += loss.item()\n",
    "            _, predicted = torch.max(outputs.data, 1)\n",
    "            test_total += labels.size(0)\n",
    "            test_correct += (predicted == labels).sum().item()\n",
    "\n",
    "    test_loss = test_running_loss / len(data_test_loader)\n",
    "    test_acc = test_correct / test_total\n",
    "    test_losses.append(test_loss)\n",
    "    test_accuracies.append(test_acc)\n",
    "\n",
    "    model.eval()\n",
    "    val_running_loss = 0.0\n",
    "    val_correct = 0\n",
    "    val_total = 0\n",
    "    with torch.no_grad():\n",
    "        for data in data_vali_loader:\n",
    "            inputs, labels = data[0].to(device), data[1].to(device)\n",
    "            outputs = model(inputs)\n",
    "            loss = criterion(outputs, labels)\n",
    "            val_running_loss += loss.item()\n",
    "            _, predicted = torch.max(outputs.data, 1)\n",
    "            val_total += labels.size(0)\n",
    "            val_correct += (predicted == labels).sum().item()\n",
    "\n",
    "    val_loss = val_running_loss / len(data_vali_loader)\n",
    "    val_acc = val_correct / val_total\n",
    "    val_losses.append(val_loss)\n",
    "    val_accuracies.append(val_acc)\n",
    "\n",
    "    print(f\"Epoch {epoch+1}, Train Loss: {train_loss}, Train Accuracy: {train_acc}, Test Loss: {test_loss}, Test Accuracy: {test_acc}, Validation Loss: {val_loss}, Validation Accuracy: {val_acc}\")\n",
    "\n",
    "    if val_acc > best_val_acc:\n",
    "        best_val_acc = val_acc\n",
    "        patience_counter = 0 \n",
    "        torch.save(model.state_dict(), 'best_model.pth')\n",
    "    else:\n",
    "        patience_counter += 1\n",
    "        print(f\"No improvement in validation accuracy for {patience_counter} epochs.\")\n",
    "    \n",
    "    if patience_counter > patience:\n",
    "        print(\"Stopping early due to lack of improvement in validation accuracy.\")\n",
    "        break"
   ]
  },
  {
   "cell_type": "code",
   "execution_count": 13,
   "metadata": {},
   "outputs": [
    {
     "data": {
      "image/png": "[encoded data removed]",
      "text/plain": [
       "<Figure size 1200x600 with 2 Axes>"
      ]
     },
     "metadata": {},
     "output_type": "display_data"
    }
   ],
   "source": [
    "plt.figure(figsize=(15, 5))\n",
    "plt.subplot(1, 3, 1)\n",
    "plt.plot(range(1, num_epochs+1), train_losses, label='Train Loss')\n",
    "plt.plot(range(1, num_epochs+1), test_losses, label='Test Loss')\n",
    "plt.plot(range(1, num_epochs+1), val_losses, label='Validation Loss')\n",
    "plt.xlabel('Epochs')\n",
    "plt.ylabel('Loss')\n",
    "plt.title('Losses')\n",
    "plt.legend()\n",
    "\n",
    "plt.subplot(1, 3, 2)\n",
    "plt.plot(range(1, num_epochs+1), train_accuracies, label='Train Accuracy')\n",
    "plt.plot(range(1, num_epochs+1), test_accuracies, label='Test Accuracy')\n",
    "plt.plot(range(1, num_epochs+1), val_accuracies, label='Validation Accuracy')\n",
    "plt.xlabel('Epochs')\n",
    "plt.ylabel('Accuracy')\n",
    "plt.title('Accuracies')\n",
    "plt.legend()\n",
    "\n",
    "plt.show()"
   ]
  },
  {
   "cell_type": "code",
   "execution_count": null,
   "metadata": {},
   "outputs": [],
   "source": [
    "df = pd.DataFrame({\n",
    "    'Epoch': range(1, num_epochs+1),\n",
    "    'Train Loss': train_losses,\n",
    "    'Test Loss': test_losses,\n",
    "    'Validation Loss': val_losses,\n",
    "    'Train Accuracy': train_accuracies,\n",
    "    'Test Accuracy': test_accuracies,\n",
    "    'Validation Accuracy': val_accuracies\n",
    "})\n",
    "df.to_csv('training_metrics.csv', index=False)"
   ]
  },
  {
   "cell_type": "code",
   "execution_count": null,
   "metadata": {},
   "outputs": [],
   "source": []
  }
 ],
 "metadata": {
  "kernelspec": {
   "display_name": "Python 3",
   "language": "python",
   "name": "python3"
  },
  "language_info": {
   "codemirror_mode": {
    "name": "ipython",
    "version": 3
   },
   "file_extension": ".py",
   "mimetype": "text/x-python",
   "name": "python",
   "nbconvert_exporter": "python",
   "pygments_lexer": "ipython3",
   "version": "3.9.6"
  }
 },
 "nbformat": 4,
 "nbformat_minor": 2
}
